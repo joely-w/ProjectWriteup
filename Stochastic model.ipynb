{
 "cells": [
  {
   "cell_type": "markdown",
   "id": "e381e48f",
   "metadata": {},
   "source": [
    "# Stochastic modelling of COVID19 dataset\n",
    "## Initial setup"
   ]
  },
  {
   "cell_type": "code",
   "execution_count": 5,
   "id": "bbdd4a89",
   "metadata": {},
   "outputs": [],
   "source": [
    "library(plyr)\n",
    "library(tidyr)\n",
    "library(tidyverse)\n",
    "library(deSolve)\n",
    "library(bbmle)\n",
    "options(repr.plot.width = 8, repr.plot.height =4.5)\n",
    "dev.new(width=8, height=2.5)\n",
    "set.seed(1234)"
   ]
  },
  {
   "cell_type": "markdown",
   "id": "b3067132",
   "metadata": {},
   "source": [
    "## Base Model: SIR\n",
    "Now to warm up, we want to use the standard SIR model with no population dynamics:\n",
    "\n",
    "$\\frac{dS}{dt} = -\\beta{S}{I}$\n",
    "\n",
    "$\\frac{dI}{dt} = \\beta{S}{I} - \\gamma{I}$\n",
    "\n",
    "$\\frac{dR}{dt} = \\gamma{I}$\n",
    "\n",
    "Creating this model in R:"
   ]
  },
  {
   "cell_type": "code",
   "execution_count": 184,
   "id": "4e2c8ca4",
   "metadata": {},
   "outputs": [],
   "source": [
    "SIR <- function(time, variables, parameters) {\n",
    "  with(as.list(c(variables, parameters)), {\n",
    "    dS <- -beta * S * I\n",
    "    dI <- beta * S * I - gamma * I\n",
    "    dR <-  gamma * I\n",
    "    return(list(c(dS, dI, dR)))\n",
    "  })\n",
    "}"
   ]
  },
  {
   "cell_type": "markdown",
   "id": "6084df36",
   "metadata": {},
   "source": [
    "We then create a function to return an approximate value for our model given all parameters. We can make this return our infectious curve without the first point for fitting, and then the full model for displaying a fit that we like."
   ]
  },
  {
   "cell_type": "code",
   "execution_count": 1,
   "id": "9fe23f3f",
   "metadata": {},
   "outputs": [],
   "source": [
    "model <- function (gamma, beta, times, initial_data, fullData=FALSE) {\n",
    "    out <- ode(func=SIR, y=initial_data,\n",
    "               times=times,parms=c(gamma=gamma,beta=beta))\n",
    "    if(fullData){\n",
    "        return(out)\n",
    "    }\n",
    "    return(out[-1,3])\n",
    "}"
   ]
  },
  {
   "cell_type": "markdown",
   "id": "b846a4e0",
   "metadata": {},
   "source": [
    "## Dataset: Flu in Boarding School\n",
    "We have the classic dataset from a flu outbreak in a boarding school. Obtained from https://rdrr.io/cran/outbreaks/man/influenza_england_1978_school.html"
   ]
  },
  {
   "cell_type": "code",
   "execution_count": 228,
   "id": "783afafd",
   "metadata": {
    "scrolled": true
   },
   "outputs": [
    {
     "data": {
      "text/html": [
       "<dl class=dl-horizontal>\n",
       "\t<dt>S</dt>\n",
       "\t\t<dd>760</dd>\n",
       "\t<dt>I</dt>\n",
       "\t\t<dd>3</dd>\n",
       "\t<dt>R</dt>\n",
       "\t\t<dd>0</dd>\n",
       "</dl>\n"
      ],
      "text/latex": [
       "\\begin{description*}\n",
       "\\item[S] 760\n",
       "\\item[I] 3\n",
       "\\item[R] 0\n",
       "\\end{description*}\n"
      ],
      "text/markdown": [
       "S\n",
       ":   760I\n",
       ":   3R\n",
       ":   0\n",
       "\n"
      ],
      "text/plain": [
       "  S   I   R \n",
       "760   3   0 "
      ]
     },
     "metadata": {},
     "output_type": "display_data"
    }
   ],
   "source": [
    "df <- data.frame(read.csv('BoardingSchoolFlu.csv', header=TRUE))\n",
    "N = 763\n",
    "I0 = df$cases[1]\n",
    "end_time <- tail(df, n=1)$days\n",
    "initial_conditions <- c(S=(N-I0), I=I0, R=0)\n",
    "initial_conditions"
   ]
  },
  {
   "cell_type": "markdown",
   "id": "eb9b4045",
   "metadata": {},
   "source": [
    "And the graphing our cases over time:"
   ]
  },
  {
   "cell_type": "code",
   "execution_count": 195,
   "id": "42e333ac",
   "metadata": {
    "scrolled": false
   },
   "outputs": [
    {
     "data": {
      "image/png": "[encoded data removed]",
      "text/plain": [
       "plot without title"
      ]
     },
     "metadata": {},
     "output_type": "display_data"
    }
   ],
   "source": [
    "plot(df$days, df$cases, xlab='Days', ylab='Cases', col='red', pch=4, lwd=1.6)"
   ]
  },
  {
   "cell_type": "markdown",
   "id": "da32b41c",
   "metadata": {},
   "source": [
    "Some code to make graphing a bit quicker:"
   ]
  },
  {
   "cell_type": "code",
   "execution_count": 205,
   "id": "6df57cf4",
   "metadata": {},
   "outputs": [],
   "source": [
    "compare_model <- function(model, title){\n",
    "    plot(df$days, df$cases, xlab='Days', ylab='Cases', col='red', lwd=1.6, pch=4)\n",
    "    legend(1, 250, legend=c(\"Predicted\", \"Actual\"),\n",
    "           col=c(\"red\", \"grey\"), lty=1:5, y.intersp=2)\n",
    "    \n",
    "    lines(loess(model$I~model$time), col='black', lty=5)\n",
    "    title(title)\n",
    "}"
   ]
  },
  {
   "cell_type": "markdown",
   "id": "0f36c816",
   "metadata": {},
   "source": [
    "## Initial Parameters\n",
    "It is helpful in the following estimations to give our optimiser initial values of our parameters. These help our optimiser to determine the magnitude of our parameters. Our initial parameter choice is important as our optimiser could prematurely stop before reaching a useful result if we provide bad initial parameters."
   ]
  },
  {
   "cell_type": "markdown",
   "id": "23aa8201",
   "metadata": {},
   "source": [
    "## Parameter Estimation: MLE's using Normal Distribution \n",
    "We now want to create a maximum likelihood estimator of our model, with the aim of numerically maximising this to find estimates for our model's parameters.\n",
    "We first assume each observation is normally distributed, with constant variance $\\sigma^2$:\n",
    "\n",
    "$Y_t \\sim N(I_t, \\sigma^2)$.\n",
    "We want a function that will give a log likelihood of our dataset. To do this generally, assume that each datapoint has the same distribution with parameters $\\underline{\\theta}$, so each datapoint has the PDF: $f(y |  \\underline{\\theta})$.\n",
    "Then our likelihood function is: \n",
    "$L =\\displaystyle \\prod_{t=0}^{n-1}f(Y_t | \\underline{\\theta}_t)$,\n",
    "and our log likelihood function is:\n",
    "$L =\\displaystyle \\sum_{t=0}^{n-1}\\log{(f(Y_t | \\underline{\\theta}_t))}$ \n",
    "\n",
    "At first this is a normal distribution so the likelihood function can be implemented. We return the minus log likelihood as this is what our package uses to estimate parameters.\n",
    "\n",
    "\n"
   ]
  },
  {
   "cell_type": "code",
   "execution_count": 2,
   "id": "ad3d5ec3",
   "metadata": {},
   "outputs": [],
   "source": [
    "likelihood <- function(gamma, beta,sigma){\n",
    "    gamma <- exp(gamma)\n",
    "    beta <- exp(beta)\n",
    "    sigma <- exp(sigma)\n",
    "    model_data <- model(beta = beta, gamma = gamma, times=df$days, initial_data=initial_conditions)\n",
    "    print(model_data)\n",
    "    -sum(dnorm(x=df$cases[-1],mean=model_data[-1], sd=sigma, log=TRUE))\n",
    "}"
   ]
  },
  {
   "cell_type": "markdown",
   "id": "d3e1b6d2",
   "metadata": {},
   "source": [
    "Our aim is then to maximimise our log-likelihood function, which we can do using the `bblme` package."
   ]
  },
  {
   "cell_type": "code",
   "execution_count": 6,
   "id": "bc0a28e2",
   "metadata": {
    "scrolled": true
   },
   "outputs": [
    {
     "ename": "ERROR",
     "evalue": "Error in ode(func = SIR, y = initial_data, times = times, parms = c(gamma = gamma, : object 'initial_conditions' not found\n",
     "output_type": "error",
     "traceback": [
      "Error in ode(func = SIR, y = initial_data, times = times, parms = c(gamma = gamma, : object 'initial_conditions' not found\nTraceback:\n",
      "1. mle2(minuslogl = likelihood, start = lapply(initial_params, log), \n .     method = \"Nelder-Mead\", )",
      "2. do.call(\"optim\", c(list(par = start, fn = objectivefunction, \n .     method = method, hessian = FALSE, gr = objectivefunctiongr, \n .     control = call$control, lower = call$lower, upper = call$upper), \n .     arglist))",
      "3. optim(par = c(gamma = -2.99573227355399, beta = -0.693147180559945, \n . sigma = 0), fn = function (p) \n . {\n .     if (browse_obj) \n .         browser()\n .     l <- relist2(p, template)\n .     names(p) <- nstart[order(oo)]\n .     l[nfix] <- fixed\n .     if (vecpar) {\n .         l <- namedrop(l[nfull])\n .         l <- unlist(l)\n .         args <- list(l)\n .         args <- c(list(l), args.in.data)\n .     }\n .     else {\n .         args <- c(l, args.in.data)\n .     }\n .     do.call(\"minuslogl\", namedrop(args))\n . }, method = \"Nelder-Mead\", hessian = FALSE, gr = NULL, control = list(), \n .     lower = -Inf, upper = Inf)",
      "4. (function (par) \n . fn(par, ...))(c(gamma = -2.99573227355399, beta = -0.693147180559945, \n . sigma = 0))",
      "5. fn(par, ...)",
      "6. do.call(\"minuslogl\", namedrop(args))",
      "7. minuslogl(gamma = -2.99573227355399, beta = -0.693147180559945, \n .     sigma = 0)",
      "8. model(beta = beta, gamma = gamma, times = df$days, initial_data = initial_conditions)   # at line 5 of file <text>",
      "9. ode(func = SIR, y = initial_data, times = times, parms = c(gamma = gamma, \n .     beta = beta))   # at line 2-3 of file <text>"
     ]
    }
   ],
   "source": [
    "initial_params <- list(beta = 0.5, gamma = 0.05, sigma = 1)\n",
    "results <- mle2(minuslogl = likelihood, start = lapply(initial_params, log),method = \"Nelder-Mead\",)\n",
    "parameters <- exp(coef(results))\n",
    "parameters"
   ]
  },
  {
   "cell_type": "markdown",
   "id": "ac2101bf",
   "metadata": {},
   "source": [
    "Now we can compare our estimate against our data"
   ]
  },
  {
   "cell_type": "code",
   "execution_count": 250,
   "id": "1a74437b",
   "metadata": {
    "scrolled": false
   },
   "outputs": [
    {
     "data": {
      "text/html": [
       "<table>\n",
       "<thead><tr><th scope=col>time</th><th scope=col>S</th><th scope=col>I</th><th scope=col>R</th></tr></thead>\n",
       "<tbody>\n",
       "\t<tr><td> 1       </td><td>760.0000 </td><td>3.0000000</td><td>0.0000000</td></tr>\n",
       "\t<tr><td> 2       </td><td>759.9847 </td><td>2.6252038</td><td>0.3900494</td></tr>\n",
       "\t<tr><td> 3       </td><td>759.9714 </td><td>2.2972304</td><td>0.7313702</td></tr>\n",
       "\t<tr><td> 4       </td><td>759.9597 </td><td>2.0102309</td><td>1.0300493</td></tr>\n",
       "\t<tr><td> 5       </td><td>759.9495 </td><td>1.7590871</td><td>1.2914135</td></tr>\n",
       "\t<tr><td> 6       </td><td>759.9406 </td><td>1.5393188</td><td>1.5201251</td></tr>\n",
       "\t<tr><td> 7       </td><td>759.9327 </td><td>1.3470083</td><td>1.7202615</td></tr>\n",
       "\t<tr><td> 8       </td><td>759.9259 </td><td>1.1787228</td><td>1.8953952</td></tr>\n",
       "\t<tr><td> 9       </td><td>759.9199 </td><td>1.0314615</td><td>2.0486490</td></tr>\n",
       "\t<tr><td>10       </td><td>759.9146 </td><td>0.9025981</td><td>2.1827563</td></tr>\n",
       "\t<tr><td>11       </td><td>759.9101 </td><td>0.7898338</td><td>2.3001093</td></tr>\n",
       "\t<tr><td>12       </td><td>759.9060 </td><td>0.6911575</td><td>2.4028010</td></tr>\n",
       "\t<tr><td>13       </td><td>759.9025 </td><td>0.6048090</td><td>2.4926632</td></tr>\n",
       "\t<tr><td>14       </td><td>759.8995 </td><td>0.5292483</td><td>2.5712986</td></tr>\n",
       "</tbody>\n",
       "</table>\n"
      ],
      "text/latex": [
       "\\begin{tabular}{r|llll}\n",
       " time & S & I & R\\\\\n",
       "\\hline\n",
       "\t  1        & 760.0000  & 3.0000000 & 0.0000000\\\\\n",
       "\t  2        & 759.9847  & 2.6252038 & 0.3900494\\\\\n",
       "\t  3        & 759.9714  & 2.2972304 & 0.7313702\\\\\n",
       "\t  4        & 759.9597  & 2.0102309 & 1.0300493\\\\\n",
       "\t  5        & 759.9495  & 1.7590871 & 1.2914135\\\\\n",
       "\t  6        & 759.9406  & 1.5393188 & 1.5201251\\\\\n",
       "\t  7        & 759.9327  & 1.3470083 & 1.7202615\\\\\n",
       "\t  8        & 759.9259  & 1.1787228 & 1.8953952\\\\\n",
       "\t  9        & 759.9199  & 1.0314615 & 2.0486490\\\\\n",
       "\t 10        & 759.9146  & 0.9025981 & 2.1827563\\\\\n",
       "\t 11        & 759.9101  & 0.7898338 & 2.3001093\\\\\n",
       "\t 12        & 759.9060  & 0.6911575 & 2.4028010\\\\\n",
       "\t 13        & 759.9025  & 0.6048090 & 2.4926632\\\\\n",
       "\t 14        & 759.8995  & 0.5292483 & 2.5712986\\\\\n",
       "\\end{tabular}\n"
      ],
      "text/markdown": [
       "\n",
       "| time | S | I | R |\n",
       "|---|---|---|---|\n",
       "|  1        | 760.0000  | 3.0000000 | 0.0000000 |\n",
       "|  2        | 759.9847  | 2.6252038 | 0.3900494 |\n",
       "|  3        | 759.9714  | 2.2972304 | 0.7313702 |\n",
       "|  4        | 759.9597  | 2.0102309 | 1.0300493 |\n",
       "|  5        | 759.9495  | 1.7590871 | 1.2914135 |\n",
       "|  6        | 759.9406  | 1.5393188 | 1.5201251 |\n",
       "|  7        | 759.9327  | 1.3470083 | 1.7202615 |\n",
       "|  8        | 759.9259  | 1.1787228 | 1.8953952 |\n",
       "|  9        | 759.9199  | 1.0314615 | 2.0486490 |\n",
       "| 10        | 759.9146  | 0.9025981 | 2.1827563 |\n",
       "| 11        | 759.9101  | 0.7898338 | 2.3001093 |\n",
       "| 12        | 759.9060  | 0.6911575 | 2.4028010 |\n",
       "| 13        | 759.9025  | 0.6048090 | 2.4926632 |\n",
       "| 14        | 759.8995  | 0.5292483 | 2.5712986 |\n",
       "\n"
      ],
      "text/plain": [
       "   time S        I         R        \n",
       "1   1   760.0000 3.0000000 0.0000000\n",
       "2   2   759.9847 2.6252038 0.3900494\n",
       "3   3   759.9714 2.2972304 0.7313702\n",
       "4   4   759.9597 2.0102309 1.0300493\n",
       "5   5   759.9495 1.7590871 1.2914135\n",
       "6   6   759.9406 1.5393188 1.5201251\n",
       "7   7   759.9327 1.3470083 1.7202615\n",
       "8   8   759.9259 1.1787228 1.8953952\n",
       "9   9   759.9199 1.0314615 2.0486490\n",
       "10 10   759.9146 0.9025981 2.1827563\n",
       "11 11   759.9101 0.7898338 2.3001093\n",
       "12 12   759.9060 0.6911575 2.4028010\n",
       "13 13   759.9025 0.6048090 2.4926632\n",
       "14 14   759.8995 0.5292483 2.5712986"
      ]
     },
     "metadata": {},
     "output_type": "display_data"
    },
    {
     "data": {
      "image/png": "[encoded data removed]",
      "text/plain": [
       "Plot with title \"Boarding School Flu with Normal MLE\""
      ]
     },
     "metadata": {},
     "output_type": "display_data"
    }
   ],
   "source": [
    "normal_model <- data.frame(model(gamma=as.double(parameters['gamma']), beta=as.double(parameters['beta']), times=df$days, initial_data=initial_conditions, fullData=TRUE))\n",
    "normal_model\n",
    "compare_model(normal_model,'Boarding School Flu with Normal MLE' )"
   ]
  },
  {
   "cell_type": "markdown",
   "id": "df267b9d",
   "metadata": {},
   "source": [
    "## Parameter Estimation: MLE's using Poisson Distribution\n",
    "We can try a Poisson distribution instead: $Y_t \\sim Po(I_t)$. Our log-likelihood function is then:"
   ]
  },
  {
   "cell_type": "code",
   "execution_count": 175,
   "id": "22ae4c74",
   "metadata": {},
   "outputs": [],
   "source": [
    "likelihood_po <- function(gamma, beta){\n",
    "    beta <- exp(beta)\n",
    "    gamma <- exp(gamma)\n",
    "    model_data <- model(beta = beta, gamma = gamma, times=df$days, initial_data=initial_conditions)\n",
    "    -sum(dpois(x = df$cases[-1], lambda = model_data[-1], log = TRUE))\n",
    "}"
   ]
  },
  {
   "cell_type": "markdown",
   "id": "bbe8f77c",
   "metadata": {},
   "source": [
    "We can then repeat our estimation:"
   ]
  },
  {
   "cell_type": "code",
   "execution_count": 180,
   "id": "8f6e4639",
   "metadata": {},
   "outputs": [
    {
     "data": {
      "text/html": [
       "<dl class=dl-horizontal>\n",
       "\t<dt>gamma</dt>\n",
       "\t\t<dd>0.454269981668613</dd>\n",
       "\t<dt>beta</dt>\n",
       "\t\t<dd>0.00189368486681687</dd>\n",
       "</dl>\n"
      ],
      "text/latex": [
       "\\begin{description*}\n",
       "\\item[gamma] 0.454269981668613\n",
       "\\item[beta] 0.00189368486681687\n",
       "\\end{description*}\n"
      ],
      "text/markdown": [
       "gamma\n",
       ":   0.454269981668613beta\n",
       ":   0.00189368486681687\n",
       "\n"
      ],
      "text/plain": [
       "      gamma        beta \n",
       "0.454269982 0.001893685 "
      ]
     },
     "metadata": {},
     "output_type": "display_data"
    }
   ],
   "source": [
    "po_initial_params <- c(gamma=0.5, beta=0.005)\n",
    "po_results <- mle2(minuslogl = likelihood_po, start = lapply(po_initial_params, log),method = \"Nelder-Mead\")\n",
    "po_parameters <- exp(coef(po_results))\n",
    "po_parameters"
   ]
  },
  {
   "cell_type": "code",
   "execution_count": 181,
   "id": "0520f401",
   "metadata": {
    "scrolled": false
   },
   "outputs": [
    {
     "data": {
      "image/png": "[encoded data removed]",
      "text/plain": [
       "Plot with title \"Boarding School Flu with Poisson MLE\""
      ]
     },
     "metadata": {},
     "output_type": "display_data"
    }
   ],
   "source": [
    "po_model <- data.frame(model(gamma=as.double(po_parameters['gamma']), beta=as.double(po_parameters['beta']),\n",
    "                  times=seq(0,end_time, 0.1), initial_data=initial_conditions, fullData=TRUE))\n",
    "\n",
    "compare_model(po_model, 'Boarding School Flu with Poisson MLE')\n"
   ]
  },
  {
   "cell_type": "markdown",
   "id": "4c9a6850",
   "metadata": {},
   "source": [
    "## Parameter Estimation: MLE's using Negative Binomial Distribution\n"
   ]
  },
  {
   "cell_type": "markdown",
   "id": "4ac2c5f5",
   "metadata": {},
   "source": [
    "## Model Comparison\n",
    "Now we seek to compare the two variations of our model. Both models work by seeking to maximise the log-likelihood given that our data has a certain distribution. Hence from this perspective, the more \"better\" model would be the one with a larger log-likelihood.\n",
    "\n",
    "Our Normal log-likelihood value:"
   ]
  },
  {
   "cell_type": "code",
   "execution_count": 15,
   "id": "886658c5",
   "metadata": {
    "scrolled": false
   },
   "outputs": [
    {
     "data": {
      "text/plain": [
       "'log Lik.' 60.15289 (df=3)"
      ]
     },
     "metadata": {},
     "output_type": "display_data"
    }
   ],
   "source": [
    "-logLik(results)"
   ]
  },
  {
   "cell_type": "markdown",
   "id": "fbba2b88",
   "metadata": {},
   "source": [
    "Our Poisson log-likelihood value:"
   ]
  },
  {
   "cell_type": "code",
   "execution_count": 16,
   "id": "8807f44a",
   "metadata": {},
   "outputs": [
    {
     "data": {
      "text/plain": [
       "'log Lik.' 103.0863 (df=2)"
      ]
     },
     "metadata": {},
     "output_type": "display_data"
    }
   ],
   "source": [
    "-logLik(po_results)"
   ]
  },
  {
   "cell_type": "markdown",
   "id": "ea7a431e",
   "metadata": {},
   "source": [
    "So from this perspective the Poisson model is an improvement of the Normal model. \n",
    "## Fitting $I_0$\n",
    "We could also try and fit $I_0$, by first applying the bound $1 \\leq I_0 \\leq I(0)$. Then we can remove it from our data fields and add it to our parameters to be fitted instead. Using our Normal likelihood:"
   ]
  },
  {
   "cell_type": "code",
   "execution_count": 17,
   "id": "79f31ee0",
   "metadata": {},
   "outputs": [],
   "source": [
    "likelihood_i <- function(gamma, beta, I, sigma){\n",
    "    beta <- exp(beta)\n",
    "    gamma <- exp(gamma)\n",
    "    I <- exp(I)\n",
    "    sigma<-exp(sigma)\n",
    "    initial <- c(S=as.double(initial_conditions['S']), I=I, R=as.double(initial_conditions['R']))\n",
    "    model_data <- model(beta = beta, gamma = gamma, times=df$days, initial_data=initial)\n",
    "    -sum(dnorm(x=df$cases[-1],mean=model_data[-1], sd=sigma, log=TRUE))\n",
    "}"
   ]
  },
  {
   "cell_type": "code",
   "execution_count": 49,
   "id": "92a5fa59",
   "metadata": {},
   "outputs": [
    {
     "data": {
      "text/html": [
       "<dl class=dl-horizontal>\n",
       "\t<dt>gamma</dt>\n",
       "\t\t<dd>0.453569243681543</dd>\n",
       "\t<dt>beta</dt>\n",
       "\t\t<dd>0.00230369686057772</dd>\n",
       "\t<dt>I</dt>\n",
       "\t\t<dd>0.6361262703786</dd>\n",
       "\t<dt>sigma</dt>\n",
       "\t\t<dd>16.3029767413986</dd>\n",
       "</dl>\n"
      ],
      "text/latex": [
       "\\begin{description*}\n",
       "\\item[gamma] 0.453569243681543\n",
       "\\item[beta] 0.00230369686057772\n",
       "\\item[I] 0.6361262703786\n",
       "\\item[sigma] 16.3029767413986\n",
       "\\end{description*}\n"
      ],
      "text/markdown": [
       "gamma\n",
       ":   0.453569243681543beta\n",
       ":   0.00230369686057772I\n",
       ":   0.6361262703786sigma\n",
       ":   16.3029767413986\n",
       "\n"
      ],
      "text/plain": [
       "       gamma         beta            I        sigma \n",
       " 0.453569244  0.002303697  0.636126270 16.302976741 "
      ]
     },
     "metadata": {},
     "output_type": "display_data"
    },
    {
     "data": {
      "image/png": "[encoded data removed]",
      "text/plain": [
       "Plot with title \"Boarding School Flu with Normal MLE and I0 as a parameter\""
      ]
     },
     "metadata": {},
     "output_type": "display_data"
    }
   ],
   "source": [
    "i_initial_params <- c(gamma=0.5, beta=0.005, I=3, sigma=10)\n",
    "i_results <- mle2(minuslogl = likelihood_i, start = lapply(i_initial_params, log), method = \"Nelder-Mead\")\n",
    "i_parameters <- exp(coef(i_results))\n",
    "i_parameters\n",
    "i_model <- data.frame(model(gamma=as.double(i_parameters['gamma']), beta=as.double(i_parameters['beta']),\n",
    "                  times=seq(0,end_time, 0.1), initial_data=c(S=as.double(initial_conditions['S']), I=as.double(i_parameters['I']), R=as.double(initial_conditions['R'])), fullData=TRUE))\n",
    "\n",
    "compare_model(i_model, 'Boarding School Flu with Normal MLE and I0 as a parameter')"
   ]
  },
  {
   "cell_type": "markdown",
   "id": "60ecf804",
   "metadata": {},
   "source": [
    "## Deterministic Analysis\n",
    "We now seek to compare these models. We can do this in several ways: \n",
    "1. Find the lowest AIC score. \n",
    "2. Compare parameter uncertainties (in some way).\n",
    "3. Find the lowest sum of square errors.\n",
    "### AIC Scores\n",
    "Using the formula for AIC scores: \n",
    "$\\text{AIC} = 2K - 2\\log{L(\\hat{\\theta}, y)}$. \n",
    "Since our models are done by maximimising our log-likelihood, we can compute these scores directly from our previous calculations: "
   ]
  },
  {
   "cell_type": "code",
   "execution_count": 50,
   "id": "e0070bd3",
   "metadata": {},
   "outputs": [
    {
     "data": {
      "text/html": [
       "<dl class=dl-horizontal>\n",
       "\t<dt>Normal_I0</dt>\n",
       "\t\t<dd>62.7149529118085</dd>\n",
       "\t<dt>Normal</dt>\n",
       "\t\t<dd>66.1528938467919</dd>\n",
       "\t<dt>Poisson</dt>\n",
       "\t\t<dd>107.086323367357</dd>\n",
       "</dl>\n"
      ],
      "text/latex": [
       "\\begin{description*}\n",
       "\\item[Normal\\textbackslash{}\\_I0] 62.7149529118085\n",
       "\\item[Normal] 66.1528938467919\n",
       "\\item[Poisson] 107.086323367357\n",
       "\\end{description*}\n"
      ],
      "text/markdown": [
       "Normal_I0\n",
       ":   62.7149529118085Normal\n",
       ":   66.1528938467919Poisson\n",
       ":   107.086323367357\n",
       "\n"
      ],
      "text/plain": [
       "Normal_I0    Normal   Poisson \n",
       " 62.71495  66.15289 107.08632 "
      ]
     },
     "metadata": {},
     "output_type": "display_data"
    }
   ],
   "source": [
    "aic_scores <- c(Normal=6 - logLik(results), Poisson=4 - logLik(po_results), Normal_I0=8 - logLik(i_results) )\n",
    "sort(aic_scores)"
   ]
  },
  {
   "cell_type": "markdown",
   "id": "017dc0d6",
   "metadata": {},
   "source": [
    "So the best model is our Normal MLE model with $I_0$ fitted.\n",
    "\n",
    "### Residual Sum of Squares\n",
    "We look to calculate the residual sum of squares. "
   ]
  },
  {
   "cell_type": "code",
   "execution_count": 94,
   "id": "9a15ced1",
   "metadata": {},
   "outputs": [],
   "source": [
    "rss <- function(model, incidence){\n",
    "    data <- filter(model, time%%1==0)\n",
    "    sum((data$I[-1] - incidence$cases)^2)\n",
    "}"
   ]
  },
  {
   "cell_type": "code",
   "execution_count": 95,
   "id": "dcac8116",
   "metadata": {},
   "outputs": [
    {
     "data": {
      "text/html": [
       "<dl class=dl-horizontal>\n",
       "\t<dt>Normal_I0</dt>\n",
       "\t\t<dd>3759.4759604373</dd>\n",
       "\t<dt>Normal</dt>\n",
       "\t\t<dd>8441.40565308426</dd>\n",
       "\t<dt>Poissson</dt>\n",
       "\t\t<dd>10380.7922516963</dd>\n",
       "</dl>\n"
      ],
      "text/latex": [
       "\\begin{description*}\n",
       "\\item[Normal\\textbackslash{}\\_I0] 3759.4759604373\n",
       "\\item[Normal] 8441.40565308426\n",
       "\\item[Poissson] 10380.7922516963\n",
       "\\end{description*}\n"
      ],
      "text/markdown": [
       "Normal_I0\n",
       ":   3759.4759604373Normal\n",
       ":   8441.40565308426Poissson\n",
       ":   10380.7922516963\n",
       "\n"
      ],
      "text/plain": [
       "Normal_I0    Normal  Poissson \n",
       " 3759.476  8441.406 10380.792 "
      ]
     },
     "metadata": {},
     "output_type": "display_data"
    }
   ],
   "source": [
    "rss_scores <- c(Normal=rss(normal_model, df), Normal_I0=rss(i_model, df), Poissson=rss(po_model, df))\n",
    "sort(rss_scores)"
   ]
  },
  {
   "cell_type": "markdown",
   "id": "f69d5992",
   "metadata": {},
   "source": [
    "So the best model is our Normal MLE model with $I_0$ fitted in regards to RSS as well."
   ]
  },
  {
   "cell_type": "markdown",
   "id": "8b99f55b",
   "metadata": {},
   "source": [
    "## Event Driven Models\n",
    "We now use the parameters that we have determined from our deterministic model to simulate a stochastic model. First we do the Gillespie Direct Algorithm. Our step function will take a single step given parameters `x=(time, X,Y,Z), params=(beta=beta, gamma=gamma)`."
   ]
  },
  {
   "cell_type": "code",
   "execution_count": 22,
   "id": "b850dbb7",
   "metadata": {},
   "outputs": [],
   "source": [
    "step <- function(x, params){\n",
    "  S <- x[2]\n",
    "  I <- x[3]\n",
    "  R <- x[4]\n",
    "  N <- S+I+R\n",
    "  beta <- params['beta']\n",
    "  gamma <- params['gamma']\n",
    "    \n",
    "  rates <- c(transmission=beta*S*I,\n",
    "             recovery=gamma*I)\n",
    "  \n",
    "  transitions <- list(\n",
    "    transmission=c(-1,1,0),\n",
    "    recovery=c(0,-1,1)\n",
    "  )\n",
    "  \n",
    "  rate_total <- sum(rates)\n",
    "  tau <- rexp(n=1,rate=rate_total)\n",
    "\n",
    "    \n",
    "  event <- sample.int(n=2,size=1,prob=rates/rate_total)\n",
    "  x+c(tau,transitions[[event]])\n",
    "}"
   ]
  },
  {
   "cell_type": "markdown",
   "id": "f07ae66a",
   "metadata": {},
   "source": [
    "This will of course handle time as well, we just have to run our step as many times as necessary to get to a certain time index."
   ]
  },
  {
   "cell_type": "code",
   "execution_count": 23,
   "id": "fdd10d93",
   "metadata": {},
   "outputs": [],
   "source": [
    "simulate <- function(x, params, maximum_step=10000){\n",
    "    output <- array(dim=c(maximum_step+1,4))\n",
    "    colnames(output) <- names(x)\n",
    "    output[1,] <- x\n",
    "    i <- 1\n",
    "    while(i<=maximum_step&&x[\"I\"]>0){\n",
    "        i <- i+1\n",
    "        output[i,] <- x <- step(x,params)\n",
    "    }\n",
    "    as.data.frame(output[1:i,])\n",
    "}"
   ]
  },
  {
   "cell_type": "markdown",
   "id": "0d8b2a21",
   "metadata": {},
   "source": [
    "Then we can run some simulations, we use the parameters from our Normal with $I_0$ fit."
   ]
  },
  {
   "cell_type": "code",
   "execution_count": 24,
   "id": "34988b64",
   "metadata": {
    "scrolled": false
   },
   "outputs": [
    {
     "data": {
      "image/png": "[encoded data removed]",
      "text/plain": [
       "Plot with title \"Stochastic model using Gillespie's Direct Algorithm\""
      ]
     },
     "metadata": {},
     "output_type": "display_data"
    }
   ],
   "source": [
    "stochastic_initial <- c(time=0, initial_conditions)\n",
    "simulation_data<- rdply(\n",
    "  5,\n",
    "  simulate(stochastic_initial,i_parameters)\n",
    ")\n",
    "plot(df$days, df$cases, xlab='Days', ylab='Cases', col='red', lwd=2, pch=20, ylim=c(0,400))\n",
    "d_ply(simulation_data,\".n\",function(x)lines(I~time,data=x, col=.n))\n",
    "title(\"Stochastic model using Gillespie\\'s Direct Algorithm\")"
   ]
  },
  {
   "cell_type": "code",
   "execution_count": null,
   "id": "ffd03820",
   "metadata": {},
   "outputs": [],
   "source": []
  }
 ],
 "metadata": {
  "kernelspec": {
   "display_name": "R",
   "language": "R",
   "name": "ir"
  },
  "language_info": {
   "codemirror_mode": "r",
   "file_extension": ".r",
   "mimetype": "text/x-r-source",
   "name": "R",
   "pygments_lexer": "r",
   "version": "3.6.1"
  }
 },
 "nbformat": 4,
 "nbformat_minor": 5
}
