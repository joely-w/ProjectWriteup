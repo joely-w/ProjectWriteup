{
 "cells": [
  {
   "cell_type": "markdown",
   "id": "e381e48f",
   "metadata": {},
   "source": [
    "# Stochastic modelling of COVID19 dataset\n",
    "## Initial setup"
   ]
  },
  {
   "cell_type": "code",
   "execution_count": 5,
   "id": "bbdd4a89",
   "metadata": {},
   "outputs": [],
   "source": [
    "library(tidyr)\n",
    "library(deSolve)\n",
    "options(repr.plot.width = 8, repr.plot.height =2.5)"
   ]
  },
  {
   "cell_type": "markdown",
   "id": "b3067132",
   "metadata": {},
   "source": [
    "## Base Model: SIR\n",
    "Now to warm up, we want to use the standard SIR model with no population dynamics:\n",
    "\n",
    "$\\frac{dS}{dt} = -\\frac{\\beta{S}{I}}{N}$\n",
    "\n",
    "$\\frac{dI}{dt} = \\frac{\\beta{S}{I}}{N} - \\gamma{I}$\n",
    "\n",
    "$\\frac{dS}{dt} = \\gamma{I}$\n",
    "\n",
    "Creating this model in R:"
   ]
  },
  {
   "cell_type": "code",
   "execution_count": 6,
   "id": "4e2c8ca4",
   "metadata": {},
   "outputs": [],
   "source": [
    "SIR <- function(t, state, pars) {\n",
    "  with(as.list(c(state, pars)), {\n",
    "    N <- S + I + R\n",
    "    dS_dt <- -b * I/N * S\n",
    "    dI_dt <-  b * I/N * S - g * I\n",
    "    dR_dt <-  g * I\n",
    "    return(list(c(dS_dt, dI_dt, dR_dt)))\n",
    "  })\n",
    "}"
   ]
  },
  {
   "cell_type": "markdown",
   "id": "6084df36",
   "metadata": {},
   "source": [
    "We then create a function to return an approximate value for our model given all parameters:"
   ]
  },
  {
   "cell_type": "code",
   "execution_count": 7,
   "id": "9fe23f3f",
   "metadata": {},
   "outputs": [],
   "source": [
    "prediction <- function (params, times) {\n",
    "    xstart <- params[c(\"S.0\",\"I.0\", \"R.0\")]\n",
    "    out <- ode(func=sir.model.closed, y=xstart,\n",
    "               times=c(0,times),parms=params)\n",
    "    out[-1,3]\n",
    "}"
   ]
  },
  {
   "cell_type": "markdown",
   "id": "b846a4e0",
   "metadata": {},
   "source": [
    "## Dataset: Flu in Boarding School\n",
    "We have the classic dataset from a flu outbreak in a boarding school"
   ]
  },
  {
   "cell_type": "code",
   "execution_count": 15,
   "id": "783afafd",
   "metadata": {},
   "outputs": [
    {
     "data": {
      "text/html": [
       "<table>\n",
       "<thead><tr><th scope=col>days</th><th scope=col>cases</th></tr></thead>\n",
       "<tbody>\n",
       "\t<tr><td> 1 </td><td>  3</td></tr>\n",
       "\t<tr><td> 2 </td><td>  8</td></tr>\n",
       "\t<tr><td> 3 </td><td> 28</td></tr>\n",
       "\t<tr><td> 4 </td><td> 75</td></tr>\n",
       "\t<tr><td> 5 </td><td>221</td></tr>\n",
       "\t<tr><td> 6 </td><td>291</td></tr>\n",
       "\t<tr><td> 7 </td><td>255</td></tr>\n",
       "\t<tr><td> 8 </td><td>235</td></tr>\n",
       "\t<tr><td> 9 </td><td>190</td></tr>\n",
       "\t<tr><td>10 </td><td>126</td></tr>\n",
       "\t<tr><td>11 </td><td> 70</td></tr>\n",
       "\t<tr><td>12 </td><td> 28</td></tr>\n",
       "\t<tr><td>13 </td><td> 12</td></tr>\n",
       "\t<tr><td>14 </td><td>  5</td></tr>\n",
       "</tbody>\n",
       "</table>\n"
      ],
      "text/latex": [
       "\\begin{tabular}{r|ll}\n",
       " days & cases\\\\\n",
       "\\hline\n",
       "\t  1  &   3\\\\\n",
       "\t  2  &   8\\\\\n",
       "\t  3  &  28\\\\\n",
       "\t  4  &  75\\\\\n",
       "\t  5  & 221\\\\\n",
       "\t  6  & 291\\\\\n",
       "\t  7  & 255\\\\\n",
       "\t  8  & 235\\\\\n",
       "\t  9  & 190\\\\\n",
       "\t 10  & 126\\\\\n",
       "\t 11  &  70\\\\\n",
       "\t 12  &  28\\\\\n",
       "\t 13  &  12\\\\\n",
       "\t 14  &   5\\\\\n",
       "\\end{tabular}\n"
      ],
      "text/markdown": [
       "\n",
       "| days | cases |\n",
       "|---|---|\n",
       "|  1  |   3 |\n",
       "|  2  |   8 |\n",
       "|  3  |  28 |\n",
       "|  4  |  75 |\n",
       "|  5  | 221 |\n",
       "|  6  | 291 |\n",
       "|  7  | 255 |\n",
       "|  8  | 235 |\n",
       "|  9  | 190 |\n",
       "| 10  | 126 |\n",
       "| 11  |  70 |\n",
       "| 12  |  28 |\n",
       "| 13  |  12 |\n",
       "| 14  |   5 |\n",
       "\n"
      ],
      "text/plain": [
       "   days cases\n",
       "1   1     3  \n",
       "2   2     8  \n",
       "3   3    28  \n",
       "4   4    75  \n",
       "5   5   221  \n",
       "6   6   291  \n",
       "7   7   255  \n",
       "8   8   235  \n",
       "9   9   190  \n",
       "10 10   126  \n",
       "11 11    70  \n",
       "12 12    28  \n",
       "13 13    12  \n",
       "14 14     5  "
      ]
     },
     "metadata": {},
     "output_type": "display_data"
    }
   ],
   "source": [
    "df <- data.frame(read.csv('BoardingSchoolFlu.csv'))\n",
    "df"
   ]
  },
  {
   "cell_type": "markdown",
   "id": "eb9b4045",
   "metadata": {},
   "source": [
    "And the graphing our cases over time:"
   ]
  },
  {
   "cell_type": "code",
   "execution_count": 17,
   "id": "42e333ac",
   "metadata": {},
   "outputs": [
    {
     "data": {
      "image/png": "[encoded data removed]",
      "text/plain": [
       "plot without title"
      ]
     },
     "metadata": {},
     "output_type": "display_data"
    }
   ],
   "source": [
    "ggplot(data=df, aes(x=days, y=cases))+\n",
    "  geom_line(linetype = \"solid\", color='red')+\n",
    "  geom_point(color='blue')"
   ]
  },
  {
   "cell_type": "markdown",
   "id": "23aa8201",
   "metadata": {},
   "source": [
    "## Parameter Estimation: MLE's using Normal Distribution \n",
    "We now want to create a maximum likelihood estimator of our model, with the aim of numerically maximising this to find estimates for our model's parameters. Initially, we assume our observerd errors are normally distributed.\n",
    "Let $Y_t$ and $I_t$ denote the observed infections and infections according to our model at time $t$, respectively.\n",
    "Using the normal distribution PDF:\n",
    "\n",
    "$f(x|\\mu, \\sigma^2) = \\frac{1}{\\sqrt{2\\pi}\\sigma}\\exp{\\frac{-(x-\\mu)^2}{2\\sigma^2}}$.\n",
    "\n",
    "Then our likelihood function is, for a sample size of $n$: \n",
    "\n",
    "$L = \\displaystyle \\prod_{t=0}^{n-1} f(Y_t|\\mu=I_t, \\sigma^2) = \\prod_{t=0}^{n-1} \\frac{1}{\\sqrt{2\\pi}\\sigma}\\exp{\\frac{-(Y_t-I_t)^2}{2\\sigma^2}} = \\frac{1}{(2\\pi)^\\frac{n}{2}\\sigma^n}\\exp{-\\sum_{t=0}^{n-1}\\frac{-(Y_t-I_t)^2}{2\\sigma^2}}$.\n",
    "\n",
    "Then the log likelihood: \n",
    "\n",
    "$\\log{L} = -\\frac{n}{2}\\log{((2\\pi)}-n\\log{\\sigma}-\\sum_{t=0}^{n-1}\\frac{(Y_t - I_t)^2}{2\\sigma^2}$"
   ]
  },
  {
   "cell_type": "code",
   "execution_count": null,
   "id": "ad3d5ec3",
   "metadata": {},
   "outputs": [],
   "source": []
  }
 ],
 "metadata": {
  "kernelspec": {
   "display_name": "R",
   "language": "R",
   "name": "ir"
  },
  "language_info": {
   "codemirror_mode": "r",
   "file_extension": ".r",
   "mimetype": "text/x-r-source",
   "name": "R",
   "pygments_lexer": "r",
   "version": "3.6.1"
  }
 },
 "nbformat": 4,
 "nbformat_minor": 5
}
