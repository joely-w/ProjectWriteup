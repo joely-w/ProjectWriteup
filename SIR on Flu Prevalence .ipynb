{
 "cells": [
  {
   "cell_type": "code",
   "execution_count": 93,
   "id": "a651f8ef",
   "metadata": {},
   "outputs": [
    {
     "ename": "ERROR",
     "evalue": "Error in library(plot3D): there is no package called 'plot3D'\n",
     "output_type": "error",
     "traceback": [
      "Error in library(plot3D): there is no package called 'plot3D'\nTraceback:\n",
      "1. library(plot3D)"
     ]
    }
   ],
   "source": [
    "library(bbmle)\n",
    "library(plyr)\n",
    "library(tidyr)\n",
    "library(tidyverse)\n",
    "library(deSolve)\n",
    "library(plot3D )\n",
    "options(repr.plot.width = 8, repr.plot.height =5.5)\n",
    "dev.new(width=8, height=4.5)"
   ]
  },
  {
   "cell_type": "markdown",
   "id": "8548e17c",
   "metadata": {},
   "source": [
    "## SIR model\n",
    "We first decide what model to use. Using S,I,R to represent proportions we use: \n",
    "\n",
    "$\\frac{dX}{dt} = -\\frac{\\beta{X}{Y}}{N}$\n",
    "\n",
    "$\\frac{dY}{dt} = \\frac{\\beta{X}{Y}}{N} - \\gamma{Y}$\n",
    "\n",
    "$\\frac{dZ}{dt} = \\gamma{Y}$"
   ]
  },
  {
   "cell_type": "code",
   "execution_count": 7,
   "id": "b2c30daf",
   "metadata": {
    "scrolled": false
   },
   "outputs": [],
   "source": [
    "model <- function(beta, gamma, initial_conditions, times){\n",
    "    equations <- function(time, variables, parameters) {\n",
    "        with(as.list(c(variables, parameters)), {\n",
    "            N <- X+Y+Z\n",
    "            dX <- -beta * X * Y/N\n",
    "            dY <- beta * X*Y/N - gamma * Y\n",
    "            dZ <-  gamma * Y\n",
    "            return(list(c(dX, dY, dZ)))\n",
    "        })\n",
    "    }\n",
    "    out <- ode(\n",
    "        y = initial_conditions,\n",
    "        times = c(0,times),\n",
    "        func = equations,\n",
    "        parms = c(beta=beta, gamma=gamma) \n",
    "    )\n",
    "    # Always have to pass t=0 state to ode solver as it gets it's IC from t=0.\n",
    "    return(as.data.frame(out)[-1,])\n",
    "    \n",
    "}"
   ]
  },
  {
   "cell_type": "code",
   "execution_count": 8,
   "id": "e8a1a919",
   "metadata": {},
   "outputs": [
    {
     "data": {
      "image/png": "[encoded data removed]",
      "text/plain": [
       "plot without title"
      ]
     },
     "metadata": {},
     "output_type": "display_data"
    }
   ],
   "source": [
    "df <- data.frame(read.csv('BoardingSchoolFlu.csv', header=TRUE))\n",
    "N = 763\n",
    "df$days <- df$days - 1\n",
    "initial_conditions <- c(X=(N-df$cases[1]), Y=df$cases[1], Z=0)\n",
    "plot(df$days, df$cases, xlab='Days', ylab='Infected', col='red', pch=4, lwd=1.6)"
   ]
  },
  {
   "cell_type": "code",
   "execution_count": 9,
   "id": "fee0bb5b",
   "metadata": {},
   "outputs": [],
   "source": [
    "compare_model <- function(predicted, title, times){\n",
    "    plot(df$days, df$cases, xlab='Days', ylab='Cases', col='red', lwd=1.6, pch=4)\n",
    "    legend(1, 250, legend=c(\"Predicted\", \"Actual\"),\n",
    "           col=c(\"red\", \"grey\"), lty=1:5, y.intersp=2)\n",
    "    \n",
    "    lines(loess(predicted~times), col='black', lty=5)\n",
    "    title(title)\n",
    "}"
   ]
  },
  {
   "cell_type": "markdown",
   "id": "91714f3f",
   "metadata": {},
   "source": [
    "## Using Least Squares\n",
    "We can use Least Squares to estimate our parameters, and then in further approaches use these parameters as our initial conditions."
   ]
  },
  {
   "cell_type": "code",
   "execution_count": 10,
   "id": "a23511ec",
   "metadata": {},
   "outputs": [],
   "source": [
    "ss <- function(params) {\n",
    "  I0 <- df$cases[1]\n",
    "  times <- df$days\n",
    "  predictions <- model(beta = params[1], gamma = params[2], initial_conditions,times = df$days)\n",
    "  sum((predictions$Y[-1] - df$cases[-1])^2)\n",
    "}"
   ]
  },
  {
   "cell_type": "code",
   "execution_count": 11,
   "id": "5a6e493d",
   "metadata": {},
   "outputs": [
    {
     "data": {
      "text/html": [
       "3923.88015628029"
      ],
      "text/latex": [
       "3923.88015628029"
      ],
      "text/markdown": [
       "3923.88015628029"
      ],
      "text/plain": [
       "[1] 3923.88"
      ]
     },
     "metadata": {},
     "output_type": "display_data"
    }
   ],
   "source": [
    "starting_param_val <- c(1, 1)\n",
    "ss_optim <- optim(starting_param_val, ss)\n",
    "parameters_ss <- c(beta=ss_optim$par[1], gamma=ss_optim$par[2])\n",
    "ss_optim$value"
   ]
  },
  {
   "cell_type": "code",
   "execution_count": 12,
   "id": "1c2248fd",
   "metadata": {},
   "outputs": [
    {
     "data": {
      "text/html": [
       "<dl class=dl-horizontal>\n",
       "\t<dt>beta</dt>\n",
       "\t\t<dd>1.69265578778683</dd>\n",
       "\t<dt>gamma</dt>\n",
       "\t\t<dd>0.45065580160001</dd>\n",
       "</dl>\n"
      ],
      "text/latex": [
       "\\begin{description*}\n",
       "\\item[beta] 1.69265578778683\n",
       "\\item[gamma] 0.45065580160001\n",
       "\\end{description*}\n"
      ],
      "text/markdown": [
       "beta\n",
       ":   1.69265578778683gamma\n",
       ":   0.45065580160001\n",
       "\n"
      ],
      "text/plain": [
       "     beta     gamma \n",
       "1.6926558 0.4506558 "
      ]
     },
     "metadata": {},
     "output_type": "display_data"
    },
    {
     "data": {
      "image/png": "[encoded data removed]",
      "text/plain": [
       "Plot with title \"SIR Model using Least Squares\""
      ]
     },
     "metadata": {},
     "output_type": "display_data"
    }
   ],
   "source": [
    "times <- seq(1,20,0.1)\n",
    "ss_model <-model(gamma=as.double(parameters_ss['gamma']),\n",
    "                       beta=as.double(parameters_ss['beta']),\n",
    "                       times = times,\n",
    "                       initial_conditions=initial_conditions)\n",
    "parameters_ss\n",
    "compare_model(ss_model$Y, \"SIR Model using Least Squares\", times)"
   ]
  },
  {
   "cell_type": "markdown",
   "id": "c4b123f8",
   "metadata": {},
   "source": [
    "## Using Normal MLE \n",
    "Now we have our initial parameter guesses in `parameters_ss`. If we assume our errors are normally distributed:"
   ]
  },
  {
   "cell_type": "code",
   "execution_count": 13,
   "id": "3aade78e",
   "metadata": {},
   "outputs": [],
   "source": [
    "normalLL <- function(beta, gamma, sigma){\n",
    "    model_data <- model(beta = beta, gamma = gamma, times=df$days, initial_conditions=initial_conditions)$Y[-1]\n",
    "    -sum(dnorm(x=df$cases[-1],mean=model_data, sd=sigma, log=TRUE))\n",
    "}"
   ]
  },
  {
   "cell_type": "code",
   "execution_count": null,
   "id": "de7e74c3",
   "metadata": {},
   "outputs": [],
   "source": []
  },
  {
   "cell_type": "code",
   "execution_count": 14,
   "id": "a0f54294",
   "metadata": {
    "scrolled": false
   },
   "outputs": [
    {
     "data": {
      "text/html": [
       "<dl class=dl-horizontal>\n",
       "\t<dt>beta</dt>\n",
       "\t\t<dd>1.69266148224055</dd>\n",
       "\t<dt>gamma</dt>\n",
       "\t\t<dd>0.450683374567576</dd>\n",
       "\t<dt>sigma</dt>\n",
       "\t\t<dd>17.3740955841716</dd>\n",
       "\t<dt>logLik</dt>\n",
       "\t\t<dd>55.5604643159112</dd>\n",
       "\t<dt>AIC</dt>\n",
       "\t\t<dd>117.120928631822</dd>\n",
       "</dl>\n"
      ],
      "text/latex": [
       "\\begin{description*}\n",
       "\\item[beta] 1.69266148224055\n",
       "\\item[gamma] 0.450683374567576\n",
       "\\item[sigma] 17.3740955841716\n",
       "\\item[logLik] 55.5604643159112\n",
       "\\item[AIC] 117.120928631822\n",
       "\\end{description*}\n"
      ],
      "text/markdown": [
       "beta\n",
       ":   1.69266148224055gamma\n",
       ":   0.450683374567576sigma\n",
       ":   17.3740955841716logLik\n",
       ":   55.5604643159112AIC\n",
       ":   117.120928631822\n",
       "\n"
      ],
      "text/plain": [
       "       beta       gamma       sigma      logLik         AIC \n",
       "  1.6926615   0.4506834  17.3740956  55.5604643 117.1209286 "
      ]
     },
     "metadata": {},
     "output_type": "display_data"
    },
    {
     "data": {
      "image/png": "[encoded data removed]",
      "text/plain": [
       "Plot with title \"SIR Model using Normal MLE\""
      ]
     },
     "metadata": {},
     "output_type": "display_data"
    }
   ],
   "source": [
    "starting_param_val <- c(ss_optim$par, 10)\n",
    "nMLL <- function(params) normalLL(params[1], params[2], params[3])\n",
    "\n",
    "normal_optim <- optim(starting_param_val, nMLL, lower=c(0,0,1),\n",
    "                 upper=c(10,10,1000),\n",
    "                 method=\"L-BFGS-B\",)\n",
    "normal_params<-c(beta=(normal_optim$par[1]), gamma=(normal_optim$par[2]), sigma=(normal_optim$par[3]), logLik=normal_optim$value, AIC=6+2*normal_optim$value)\n",
    "normal_params\n",
    "\n",
    "normal_model <-c(as.double(model(gamma=as.double(normal_params['gamma']),\n",
    "                       beta=as.double(normal_params['beta']),\n",
    "                       times = times,\n",
    "                       initial_conditions=initial_conditions)$Y))\n",
    "compare_model(normal_model, \"SIR Model using Normal MLE\", times)\n"
   ]
  },
  {
   "cell_type": "markdown",
   "id": "f19ea4ee",
   "metadata": {},
   "source": [
    "## Poisson MLE"
   ]
  },
  {
   "cell_type": "code",
   "execution_count": 84,
   "id": "f9341896",
   "metadata": {},
   "outputs": [],
   "source": [
    "poissonLL <- function(beta, gamma){\n",
    "    model_data <- model(beta = beta, gamma = gamma, times=df$days, initial_conditions=initial_conditions)$Y[-1]\n",
    "    -sum(dpois(x = df$cases[-1], lambda = model_data, log = TRUE))\n",
    "}\n",
    "\n",
    "pLL <- function(params) poissonLL(params[1], params[2])\n",
    "betas = seq(0, 2, 0.01)\n",
    "gammas = seq(0, 1, 0.01)\n",
    "mat <- array(0, dim=c(length(gammas),length(betas)))\n",
    "for(x in seq_along(betas)){\n",
    "    for(y in seq_along(gammas)){\n",
    "        l <- poissonLL(betas[x],gammas[y])\n",
    "        mat[y, x] <- l\n",
    "    }\n",
    "}"
   ]
  },
  {
   "cell_type": "code",
   "execution_count": 92,
   "id": "79235f20",
   "metadata": {},
   "outputs": [
    {
     "ename": "ERROR",
     "evalue": "Error in persp3D(gammas, betas, mat, xlab = \"Gamma\", ylab = \"Beta\", zlab = \"Negative Log Likelihood\", : could not find function \"persp3D\"\n",
     "output_type": "error",
     "traceback": [
      "Error in persp3D(gammas, betas, mat, xlab = \"Gamma\", ylab = \"Beta\", zlab = \"Negative Log Likelihood\", : could not find function \"persp3D\"\nTraceback:\n"
     ]
    }
   ],
   "source": [
    "persp3D(gammas, betas, mat, xlab='Gamma', ylab='Beta', zlab='Negative Log Likelihood', theta=250, shade=0.6)"
   ]
  },
  {
   "cell_type": "code",
   "execution_count": 60,
   "id": "6fb00b3f",
   "metadata": {},
   "outputs": [
    {
     "data": {
      "image/png": "[encoded data removed]",
      "text/plain": [
       "plot without title"
      ]
     },
     "metadata": {},
     "output_type": "display_data"
    }
   ],
   "source": [
    "plot(x=betas,y=likelihoods, type='l', axes=FALSE, xlab='Beta', ylab='Negative Log Likelihood', col='blue', lwd=2)\n",
    "axis(side=1, at=seq(0,5,0.5))\n",
    "axis(side=2, at=seq(0, 10000, 2000))"
   ]
  },
  {
   "cell_type": "code",
   "execution_count": 61,
   "id": "95f42fe8",
   "metadata": {
    "scrolled": false
   },
   "outputs": [
    {
     "data": {
      "text/html": [
       "<dl class=dl-horizontal>\n",
       "\t<dt>beta</dt>\n",
       "\t\t<dd>1.71698056664055</dd>\n",
       "\t<dt>gamma</dt>\n",
       "\t\t<dd>0.479568170532454</dd>\n",
       "\t<dt>logLik</dt>\n",
       "\t\t<dd>72.1302546976606</dd>\n",
       "\t<dt>AIC</dt>\n",
       "\t\t<dd>76.1302546976606</dd>\n",
       "</dl>\n"
      ],
      "text/latex": [
       "\\begin{description*}\n",
       "\\item[beta] 1.71698056664055\n",
       "\\item[gamma] 0.479568170532454\n",
       "\\item[logLik] 72.1302546976606\n",
       "\\item[AIC] 76.1302546976606\n",
       "\\end{description*}\n"
      ],
      "text/markdown": [
       "beta\n",
       ":   1.71698056664055gamma\n",
       ":   0.479568170532454logLik\n",
       ":   72.1302546976606AIC\n",
       ":   76.1302546976606\n",
       "\n"
      ],
      "text/plain": [
       "      beta      gamma     logLik        AIC \n",
       " 1.7169806  0.4795682 72.1302547 76.1302547 "
      ]
     },
     "metadata": {},
     "output_type": "display_data"
    },
    {
     "data": {
      "image/png": "[encoded data removed]",
      "text/plain": [
       "Plot with title \"SIR Model using Poisson MLE\""
      ]
     },
     "metadata": {},
     "output_type": "display_data"
    }
   ],
   "source": [
    "poisson_optim <- optim(ss_optim$par, pLL, lower=c(0,0),\n",
    "                 upper=c(10,1),\n",
    "                 method=\"L-BFGS-B\",)\n",
    "poisson_params<-c(beta=(poisson_optim$par[1]), gamma=(poisson_optim$par[2]), logLik=poisson_optim$value, AIC=4 + poisson_optim$value)\n",
    "poisson_params\n",
    "\n",
    "poisson_model <-c(as.double(model(gamma=as.double(poisson_params['gamma']),\n",
    "                       beta=as.double(poisson_params['beta']),\n",
    "                       times = times,\n",
    "                       initial_conditions=initial_conditions)$Y))\n",
    "compare_model(poisson_model, \"SIR Model using Poisson MLE\", times)\n"
   ]
  },
  {
   "cell_type": "markdown",
   "id": "18c5507c",
   "metadata": {},
   "source": [
    "## Negative Binomial MLE"
   ]
  },
  {
   "cell_type": "code",
   "execution_count": null,
   "id": "5b6687d2",
   "metadata": {},
   "outputs": [],
   "source": [
    "negativeBinLL <- function(beta, gamma, dispersion){\n",
    "    model_data <- model(beta = beta, gamma = gamma, times=df$days, initial_conditions=initial_conditions)$Y[-1]\n",
    "    -sum(dnbinom(x=df$cases[-1], s=dispersion, mu=model_data, log=TRUE))\n",
    "}\n",
    "\n",
    "nLL <- function(params) negativeBinLL(params[1], params[2], params[3])\n",
    "\n",
    "negativeBin_optim <- optim(c(ss_optim$par,10), nLL, lower=c(0,0,-Inf),\n",
    "                 upper=c(10,1, Inf),\n",
    "                 method=\"L-BFGS-B\")\n",
    "negativeBin_params<-c(beta=(negativeBin_optim$par[1]), gamma=(negativeBin_optim$par[2]), dispersion=(negativeBin_optim$par[3]),logLik=negativeBin_optim$value, AIC=4 + negativeBin_optim$value)\n",
    "negativeBin_params\n",
    "\n",
    "negativeBin_model <-c(as.double(model(gamma=as.double(negativeBin_params['gamma']),\n",
    "                       beta=as.double(negativeBin_params['beta']),\n",
    "                       times = times,\n",
    "                       initial_conditions=initial_conditions)$Y))\n",
    "compare_model(negativeBin_model, \"SIR Model using Negative Binomial MLE\", times)\n"
   ]
  },
  {
   "cell_type": "markdown",
   "id": "4bd153d4",
   "metadata": {},
   "source": [
    "## Restricting dataset "
   ]
  },
  {
   "cell_type": "markdown",
   "id": "aa94f11b",
   "metadata": {},
   "source": [
    "## Fitting on incidence\n",
    "Need a new dataset for this, as the current one gives prevalence.\n",
    "We can make the incidence curve though, for time $d$ where the report interval is 1. Given instantaneous incidence $C(t) = \\beta S(t) I(t)$:\n",
    "\n",
    "$C_d = \\int^{d+1}_{d} C(t) dt = \\int^{d+1}_{d} \\beta S(t)I(t) dt$\n",
    "\n",
    "Now say our model is calculated at $n$ points between $d+1$ and $d$, so $t_i = d+ih$ for $h=\\frac{1}{n}$. Then we can apply the composite trapezium rule: \n",
    "$C_d = h[\\frac{1}{2}(C(d)+C(d+1)) + \\sum_{j=1}^{n-1}{C(x_j)}]$\n",
    "\n",
    "Implementing this in R:"
   ]
  },
  {
   "cell_type": "code",
   "execution_count": null,
   "id": "8e3a36a2",
   "metadata": {},
   "outputs": [],
   "source": [
    "incidence_instant <- function(beta, gamma, from, to, n=100){\n",
    "    times <- seq(from, to, 1/n)\n",
    "    model_data <- model(beta = beta, gamma = gamma, initial_conditions=initial_conditions, times=times)\n",
    "    model_data$C <- beta*model_data$X*model_data$Y/N\n",
    "    ends <- tail(model_data$C, n=1) + model_data$C[1] \n",
    "    total <- sum(model_data$C) - 0.5*ends\n",
    "    return(1/n*total)\n",
    "}\n",
    "incidence_curve <- function(beta, gamma, times){\n",
    "    inc_data <- data.frame(time=times[1], incidence=incidence_instant(beta, gamma, times[1], times[2]))\n",
    "    for(i in 3:length(times)){\n",
    "        instant <- incidence_instant(beta, gamma, times[i-1], times[i])\n",
    "        inc_data[nrow(inc_data) + 1,] = c(times[i-1], instant)\n",
    "    }\n",
    "    return(inc_data)\n",
    "}\n",
    "time_length <- 13\n",
    "incidence_times <- seq(0, time_length)\n",
    "inc_data <- incidence_curve(1.66, 0.45, incidence_times)"
   ]
  },
  {
   "cell_type": "code",
   "execution_count": null,
   "id": "e16e62af",
   "metadata": {},
   "outputs": [],
   "source": []
  }
 ],
 "metadata": {
  "kernelspec": {
   "display_name": "R",
   "language": "R",
   "name": "ir"
  },
  "language_info": {
   "codemirror_mode": "r",
   "file_extension": ".r",
   "mimetype": "text/x-r-source",
   "name": "R",
   "pygments_lexer": "r",
   "version": "3.6.1"
  }
 },
 "nbformat": 4,
 "nbformat_minor": 5
}
