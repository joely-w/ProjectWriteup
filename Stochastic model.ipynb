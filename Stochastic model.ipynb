{
 "cells": [
  {
   "cell_type": "markdown",
   "id": "e381e48f",
   "metadata": {},
   "source": [
    "# Stochastic modelling of COVID19 dataset\n",
    "## Initial setup"
   ]
  },
  {
   "cell_type": "code",
   "execution_count": 28,
   "id": "bbdd4a89",
   "metadata": {},
   "outputs": [],
   "source": [
    "library(tidyr)\n",
    "library(tidyverse)\n",
    "library(deSolve)\n",
    "library(bbmle)\n",
    "options(repr.plot.width = 8, repr.plot.height =4.5)\n",
    "dev.new(width=8, height=2.5)\n"
   ]
  },
  {
   "cell_type": "markdown",
   "id": "b3067132",
   "metadata": {},
   "source": [
    "## Base Model: SIR\n",
    "Now to warm up, we want to use the standard SIR model with no population dynamics:\n",
    "\n",
    "$\\frac{dS}{dt} = -\\beta{S}{I}$\n",
    "\n",
    "$\\frac{dI}{dt} = \\beta{S}{I} - \\gamma{I}$\n",
    "\n",
    "$\\frac{dS}{dt} = \\gamma{I}$\n",
    "\n",
    "Creating this model in R:"
   ]
  },
  {
   "cell_type": "code",
   "execution_count": 29,
   "id": "4e2c8ca4",
   "metadata": {},
   "outputs": [],
   "source": [
    "SIR <- function(time, variables, parameters) {\n",
    "  with(as.list(c(variables, parameters)), {\n",
    "    dS <- -beta * I * S\n",
    "    dI <- beta * I * S - gamma * I\n",
    "    dR <-  gamma * I\n",
    "    return(list(c(dS, dI, dR)))\n",
    "  })\n",
    "}"
   ]
  },
  {
   "cell_type": "markdown",
   "id": "6084df36",
   "metadata": {},
   "source": [
    "We then create a function to return an approximate value for our model given all parameters. We can make this return our infectious curve without the first point for fitting, and then the full model for displaying a fit that we like."
   ]
  },
  {
   "cell_type": "code",
   "execution_count": 30,
   "id": "9fe23f3f",
   "metadata": {},
   "outputs": [],
   "source": [
    "model <- function (gamma, beta, times, initial_data, fullData=FALSE) {\n",
    "    out <- ode(func=SIR, y=initial_data,\n",
    "               times=times,parms=c(gamma=gamma,beta=beta))\n",
    "    if(fullData){\n",
    "        return(out)\n",
    "    }\n",
    "    return(out[-1,3])\n",
    "}"
   ]
  },
  {
   "cell_type": "markdown",
   "id": "b846a4e0",
   "metadata": {},
   "source": [
    "## Dataset: Flu in Boarding School\n",
    "We have the classic dataset from a flu outbreak in a boarding school. Obtained from https://rdrr.io/cran/outbreaks/man/influenza_england_1978_school.html"
   ]
  },
  {
   "cell_type": "code",
   "execution_count": 31,
   "id": "783afafd",
   "metadata": {
    "scrolled": true
   },
   "outputs": [
    {
     "data": {
      "text/html": [
       "<dl class=dl-horizontal>\n",
       "\t<dt>S</dt>\n",
       "\t\t<dd>760</dd>\n",
       "\t<dt>I</dt>\n",
       "\t\t<dd>3</dd>\n",
       "\t<dt>R</dt>\n",
       "\t\t<dd>0</dd>\n",
       "</dl>\n"
      ],
      "text/latex": [
       "\\begin{description*}\n",
       "\\item[S] 760\n",
       "\\item[I] 3\n",
       "\\item[R] 0\n",
       "\\end{description*}\n"
      ],
      "text/markdown": [
       "S\n",
       ":   760I\n",
       ":   3R\n",
       ":   0\n",
       "\n"
      ],
      "text/plain": [
       "  S   I   R \n",
       "760   3   0 "
      ]
     },
     "metadata": {},
     "output_type": "display_data"
    }
   ],
   "source": [
    "df <- data.frame(read.csv('BoardingSchoolFlu.csv', header=TRUE))\n",
    "N = 763\n",
    "I0 = df$cases[1]\n",
    "initial_conditions <- c(S=N-I0, I=I0, R=0)\n",
    "initial_conditions"
   ]
  },
  {
   "cell_type": "markdown",
   "id": "eb9b4045",
   "metadata": {},
   "source": [
    "And the graphing our cases over time:"
   ]
  },
  {
   "cell_type": "code",
   "execution_count": 32,
   "id": "42e333ac",
   "metadata": {
    "scrolled": false
   },
   "outputs": [
    {
     "data": {
      "image/png": "[encoded data removed]",
      "text/plain": [
       "plot without title"
      ]
     },
     "metadata": {},
     "output_type": "display_data"
    }
   ],
   "source": [
    "plot(df$days, df$cases, xlab='Days', ylab='Cases', col='green')\n",
    "lines(df$days, df$cases,col='green')"
   ]
  },
  {
   "cell_type": "markdown",
   "id": "da32b41c",
   "metadata": {},
   "source": [
    "Some code to make graphing a bit quicker:"
   ]
  },
  {
   "cell_type": "code",
   "execution_count": 81,
   "id": "6df57cf4",
   "metadata": {},
   "outputs": [],
   "source": [
    "compare_model <- function(model, title){\n",
    "    model <- data.frame(model)\n",
    "    plot(df$days, df$cases, xlab='Days', ylab='Cases', col='green', lwd=2, pch=20)\n",
    "    legend(1, 250, legend=c(\"Predicted\", \"Actual\"),\n",
    "           col=c(\"red\", \"green\"), lty=1:1, y.intersp=2)\n",
    "    lines(loess(df$cases ~ df$days),col='green', lwd=2)\n",
    "    \n",
    "    lines(loess(model$I~model$time), col='red', lwd=2)\n",
    "    points(model$time, model$I, col='red', pch=20)\n",
    "    title(title)\n",
    "}"
   ]
  },
  {
   "cell_type": "markdown",
   "id": "23aa8201",
   "metadata": {},
   "source": [
    "## Parameter Estimation: MLE's using Normal Distribution \n",
    "We now want to create a maximum likelihood estimator of our model, with the aim of numerically maximising this to find estimates for our model's parameters.\n",
    "We first assume each observation is normally distributed, with constant variance $\\sigma^2$:\n",
    "\n",
    "$Y_t \\sim N(I_t, \\sigma^2)$.\n",
    "We want a function that will give a log likelihood of our dataset. To do this generally, assume that each datapoint has the same distribution with parameters $\\underline{\\theta}$, so each datapoint has the PDF: $f(y |  \\underline{\\theta})$.\n",
    "Then our likelihood function is: \n",
    "$L =\\displaystyle \\prod_{t=0}^{n-1}f(Y_t | \\underline{\\theta}_t)$,\n",
    "and our log likelihood function is:\n",
    "$L =\\displaystyle \\sum_{t=0}^{n-1}\\log{(f(Y_t | \\underline{\\theta}_t))}$ \n",
    "\n",
    "At first this is a normal distribution so the likelihood function can be implemented. We return the minus log likelihood as this is what our package uses to estimate parameters.\n",
    "\n",
    "\n"
   ]
  },
  {
   "cell_type": "code",
   "execution_count": 130,
   "id": "ad3d5ec3",
   "metadata": {},
   "outputs": [],
   "source": [
    "likelihood <- function(gamma, beta,sigma){\n",
    "    beta <- exp(beta)\n",
    "    gamma <- exp(gamma)\n",
    "    sigma <- exp(sigma)\n",
    "    model_data <- model(beta = beta, gamma = gamma, times=df$days, initial_data=initial_conditions)\n",
    "    -sum(dnorm(x=df$cases[-1],mean=model_data, sd=sigma, log=TRUE))\n",
    "}"
   ]
  },
  {
   "cell_type": "markdown",
   "id": "d3e1b6d2",
   "metadata": {},
   "source": [
    "Our aim is then to maximimise our log-likelihood function, which we can do using the `bblme` package."
   ]
  },
  {
   "cell_type": "code",
   "execution_count": 131,
   "id": "bc0a28e2",
   "metadata": {
    "scrolled": true
   },
   "outputs": [
    {
     "data": {
      "text/html": [
       "<dl class=dl-horizontal>\n",
       "\t<dt>gamma</dt>\n",
       "\t\t<dd>0.450626519034621</dd>\n",
       "\t<dt>beta</dt>\n",
       "\t\t<dd>0.00221583886792478</dd>\n",
       "\t<dt>sigma</dt>\n",
       "\t\t<dd>17.4739933575112</dd>\n",
       "</dl>\n"
      ],
      "text/latex": [
       "\\begin{description*}\n",
       "\\item[gamma] 0.450626519034621\n",
       "\\item[beta] 0.00221583886792478\n",
       "\\item[sigma] 17.4739933575112\n",
       "\\end{description*}\n"
      ],
      "text/markdown": [
       "gamma\n",
       ":   0.450626519034621beta\n",
       ":   0.00221583886792478sigma\n",
       ":   17.4739933575112\n",
       "\n"
      ],
      "text/plain": [
       "       gamma         beta        sigma \n",
       " 0.450626519  0.002215839 17.473993358 "
      ]
     },
     "metadata": {},
     "output_type": "display_data"
    }
   ],
   "source": [
    "initial_params <- c(gamma=0.5, beta=0.05, sigma=1)\n",
    "results <- mle2(minuslogl = likelihood, start = lapply(initial_params, log),method = \"Nelder-Mead\")\n",
    "parameters <- exp(coef(results))\n",
    "parameters"
   ]
  },
  {
   "cell_type": "markdown",
   "id": "ac2101bf",
   "metadata": {},
   "source": [
    "Now we can compare our estimate against our data"
   ]
  },
  {
   "cell_type": "code",
   "execution_count": 83,
   "id": "1a74437b",
   "metadata": {},
   "outputs": [
    {
     "data": {
      "image/png": "[encoded data removed]",
      "text/plain": [
       "Plot with title \"Boarding School Flu with Normal MLE\""
      ]
     },
     "metadata": {},
     "output_type": "display_data"
    }
   ],
   "source": [
    "normal_model <- model(gamma=as.double(parameters['gamma']), beta=as.double(parameters['beta']), times=df$days, initial_data=initial_conditions, fullData=TRUE)\n",
    "compare_model(normal_model,'Boarding School Flu with Normal MLE' )"
   ]
  },
  {
   "cell_type": "markdown",
   "id": "df267b9d",
   "metadata": {},
   "source": [
    "## Parameter Estimation: MLE's using Poisson Distribution\n",
    "We can try a Poisson distribution instead: $Y_t \\sim Po(I_t)$. Our log-likelihood function is then:"
   ]
  },
  {
   "cell_type": "code",
   "execution_count": 84,
   "id": "22ae4c74",
   "metadata": {},
   "outputs": [],
   "source": [
    "likelihood_po <- function(gamma, beta){\n",
    "    beta <- exp(beta)\n",
    "    gamma <- exp(gamma)\n",
    "    model_data <- model(beta = beta, gamma = gamma, times=df$days, initial_data=initial_conditions)\n",
    "    -sum(dpois(x = df$cases[-1], lambda = model_data[-1], log = TRUE))\n",
    "}"
   ]
  },
  {
   "cell_type": "markdown",
   "id": "bbe8f77c",
   "metadata": {},
   "source": [
    "We can then repeat our estimation:"
   ]
  },
  {
   "cell_type": "code",
   "execution_count": 108,
   "id": "8f6e4639",
   "metadata": {},
   "outputs": [
    {
     "data": {
      "text/html": [
       "<dl class=dl-horizontal>\n",
       "\t<dt>gamma</dt>\n",
       "\t\t<dd>0.454269981668613</dd>\n",
       "\t<dt>beta</dt>\n",
       "\t\t<dd>0.00189368486681687</dd>\n",
       "</dl>\n"
      ],
      "text/latex": [
       "\\begin{description*}\n",
       "\\item[gamma] 0.454269981668613\n",
       "\\item[beta] 0.00189368486681687\n",
       "\\end{description*}\n"
      ],
      "text/markdown": [
       "gamma\n",
       ":   0.454269981668613beta\n",
       ":   0.00189368486681687\n",
       "\n"
      ],
      "text/plain": [
       "      gamma        beta \n",
       "0.454269982 0.001893685 "
      ]
     },
     "metadata": {},
     "output_type": "display_data"
    }
   ],
   "source": [
    "po_initial_params <- c(gamma=0.5, beta=0.005)\n",
    "po_results <- mle2(minuslogl = likelihood_po, start = lapply(po_initial_params, log),method = \"Nelder-Mead\")\n",
    "po_parameters <- exp(coef(po_results))\n",
    "po_parameters"
   ]
  },
  {
   "cell_type": "code",
   "execution_count": 109,
   "id": "0520f401",
   "metadata": {
    "scrolled": false
   },
   "outputs": [
    {
     "data": {
      "image/png": "[encoded data removed]",
      "text/plain": [
       "Plot with title \"Boarding School Flu with Poisson MLE\""
      ]
     },
     "metadata": {},
     "output_type": "display_data"
    }
   ],
   "source": [
    "po_model <- model(gamma=as.double(po_parameters['gamma']), beta=as.double(po_parameters['beta']),\n",
    "                  times=df$days, initial_data=initial_conditions, fullData=TRUE)\n",
    "\n",
    "compare_model(po_model, 'Boarding School Flu with Poisson MLE')"
   ]
  },
  {
   "cell_type": "markdown",
   "id": "4ac2c5f5",
   "metadata": {},
   "source": [
    "## Model Comparison\n",
    "Now we seek to compare the two variations of our model. Both models work by seeking to maximise the log-likelihood given that our data has a certain distribution. Hence from this perspective, the more \"better\" model would be the one with a larger log-likelihood.\n",
    "\n",
    "Our Normal log-likelihood value:"
   ]
  },
  {
   "cell_type": "code",
   "execution_count": 87,
   "id": "886658c5",
   "metadata": {
    "scrolled": false
   },
   "outputs": [
    {
     "data": {
      "text/plain": [
       "'log Lik.' 55.5634 (df=3)"
      ]
     },
     "metadata": {},
     "output_type": "display_data"
    }
   ],
   "source": [
    "-logLik(results)"
   ]
  },
  {
   "cell_type": "markdown",
   "id": "fbba2b88",
   "metadata": {},
   "source": [
    "Our Poisson log-likelihood value:"
   ]
  },
  {
   "cell_type": "code",
   "execution_count": 88,
   "id": "8807f44a",
   "metadata": {},
   "outputs": [
    {
     "data": {
      "text/plain": [
       "'log Lik.' 103.0863 (df=2)"
      ]
     },
     "metadata": {},
     "output_type": "display_data"
    }
   ],
   "source": [
    "-logLik(po_results)"
   ]
  },
  {
   "cell_type": "markdown",
   "id": "ea7a431e",
   "metadata": {},
   "source": [
    "So from this perspective the Poisson model is an improvement of the Normal model. \n",
    "## Fitting $I_0$\n",
    "We could also try and fit $I_0$, by first applying the bound $1 \\leq I_0 \\leq I(0)$. Then we can remove it from our data fields and add it to our parameters to be fitted instead. Using our Normal likelihood:"
   ]
  },
  {
   "cell_type": "code",
   "execution_count": 126,
   "id": "79f31ee0",
   "metadata": {},
   "outputs": [],
   "source": [
    "likelihood_i <- function(gamma, beta, I, sigma){\n",
    "    beta <- exp(beta)\n",
    "    gamma <- exp(gamma)\n",
    "    I <- exp(I)\n",
    "    sigma<-exp(sigma)\n",
    "    initial <- c(S=as.double(initial_conditions['S']), I=I, R=as.double(initial_conditions['R']))\n",
    "    model_data <- model(beta = beta, gamma = gamma, times=df$days, initial_data=initial)\n",
    "    -sum(dnorm(x=df$cases[-1],mean=model_data, sd=sigma, log=TRUE))\n",
    "}"
   ]
  },
  {
   "cell_type": "code",
   "execution_count": 129,
   "id": "92a5fa59",
   "metadata": {},
   "outputs": [
    {
     "data": {
      "text/html": [
       "<dl class=dl-horizontal>\n",
       "\t<dt>gamma</dt>\n",
       "\t\t<dd>0.457421207071234</dd>\n",
       "\t<dt>beta</dt>\n",
       "\t\t<dd>0.00231099854636581</dd>\n",
       "\t<dt>I</dt>\n",
       "\t\t<dd>2.25897087401426</dd>\n",
       "\t<dt>sigma</dt>\n",
       "\t\t<dd>16.9685565027264</dd>\n",
       "</dl>\n"
      ],
      "text/latex": [
       "\\begin{description*}\n",
       "\\item[gamma] 0.457421207071234\n",
       "\\item[beta] 0.00231099854636581\n",
       "\\item[I] 2.25897087401426\n",
       "\\item[sigma] 16.9685565027264\n",
       "\\end{description*}\n"
      ],
      "text/markdown": [
       "gamma\n",
       ":   0.457421207071234beta\n",
       ":   0.00231099854636581I\n",
       ":   2.25897087401426sigma\n",
       ":   16.9685565027264\n",
       "\n"
      ],
      "text/plain": [
       "       gamma         beta            I        sigma \n",
       " 0.457421207  0.002310999  2.258970874 16.968556503 "
      ]
     },
     "metadata": {},
     "output_type": "display_data"
    },
    {
     "data": {
      "image/png": "[encoded data removed]",
      "text/plain": [
       "Plot with title \"Boarding School Flu with Poisson MLE and I0 as a parameter\""
      ]
     },
     "metadata": {},
     "output_type": "display_data"
    }
   ],
   "source": [
    "i_initial_params <- c(gamma=0.5, beta=0.005, I=3, sigma=10)\n",
    "i_results <- mle2(minuslogl = likelihood_i, start = lapply(i_initial_params, log), method = \"Nelder-Mead\")\n",
    "i_parameters <- exp(coef(i_results))\n",
    "i_parameters\n",
    "i_model <- model(gamma=as.double(i_parameters['gamma']), beta=as.double(i_parameters['beta']),\n",
    "                  times=df$days, initial_data=c(S=as.double(initial_conditions['S']), I=as.double(i_parameters['I']), R=as.double(initial_conditions['R'])), fullData=TRUE)\n",
    "\n",
    "compare_model(i_model, 'Boarding School Flu with Poisson MLE and I0 as a parameter')"
   ]
  }
 ],
 "metadata": {
  "kernelspec": {
   "display_name": "R",
   "language": "R",
   "name": "ir"
  },
  "language_info": {
   "codemirror_mode": "r",
   "file_extension": ".r",
   "mimetype": "text/x-r-source",
   "name": "R",
   "pygments_lexer": "r",
   "version": "3.6.1"
  }
 },
 "nbformat": 4,
 "nbformat_minor": 5
}
