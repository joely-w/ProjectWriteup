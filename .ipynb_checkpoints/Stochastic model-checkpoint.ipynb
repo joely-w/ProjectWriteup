{
 "cells": [
  {
   "cell_type": "markdown",
   "id": "e381e48f",
   "metadata": {},
   "source": [
    "# Stochastic modelling of COVID19 dataset\n",
    "## Initial setup"
   ]
  },
  {
   "cell_type": "code",
   "execution_count": 2,
   "id": "bbdd4a89",
   "metadata": {},
   "outputs": [
    {
     "ename": "ERROR",
     "evalue": "Error in library(bbmle): there is no package called 'bbmle'\n",
     "output_type": "error",
     "traceback": [
      "Error in library(bbmle): there is no package called 'bbmle'\nTraceback:\n",
      "1. library(bbmle)"
     ]
    }
   ],
   "source": [
    "library(tidyr)\n",
    "library(tidyverse)\n",
    "library(deSolve)\n",
    "library(bbmle)\n",
    "options(repr.plot.width = 8, repr.plot.height =4.5)\n",
    "dev.new(width=8, height=2.5)\n"
   ]
  },
  {
   "cell_type": "markdown",
   "id": "b3067132",
   "metadata": {},
   "source": [
    "## Base Model: SIR\n",
    "Now to warm up, we want to use the standard SIR model with no population dynamics:\n",
    "\n",
    "$\\frac{dS}{dt} = -\\frac{\\beta{S}{I}}{N}$\n",
    "\n",
    "$\\frac{dI}{dt} = \\frac{\\beta{S}{I}}{N} - \\gamma{I}$\n",
    "\n",
    "$\\frac{dS}{dt} = \\gamma{I}$\n",
    "\n",
    "Creating this model in R:"
   ]
  },
  {
   "cell_type": "code",
   "execution_count": null,
   "id": "4e2c8ca4",
   "metadata": {},
   "outputs": [],
   "source": [
    "SIR <- function(time, variables, parameters) {\n",
    "  with(as.list(c(variables, parameters)), {\n",
    "    dS <- -beta * I * S\n",
    "    dI <- beta * I * S - gamma * I\n",
    "    dR <-  gamma * I\n",
    "    return(list(c(dS, dI, dR)))\n",
    "  })\n",
    "}"
   ]
  },
  {
   "cell_type": "markdown",
   "id": "6084df36",
   "metadata": {},
   "source": [
    "We then create a function to return an approximate value for our model given all parameters, and return the infectious curve:"
   ]
  },
  {
   "cell_type": "code",
   "execution_count": null,
   "id": "9fe23f3f",
   "metadata": {},
   "outputs": [],
   "source": [
    "model <- function (gamma, beta, times, initial_data) {\n",
    "    out <- ode(func=SIR, y=initial_data,\n",
    "               times=times,parms=c(gamma=gamma,beta=beta))\n",
    "    out[-1,3]\n",
    "}"
   ]
  },
  {
   "cell_type": "markdown",
   "id": "b846a4e0",
   "metadata": {},
   "source": [
    "## Dataset: Flu in Boarding School\n",
    "We have the classic dataset from a flu outbreak in a boarding school. Obtained from https://rdrr.io/cran/outbreaks/man/influenza_england_1978_school.html"
   ]
  },
  {
   "cell_type": "code",
   "execution_count": null,
   "id": "783afafd",
   "metadata": {
    "scrolled": true
   },
   "outputs": [],
   "source": [
    "df <- data.frame(read.csv('BoardingSchoolFlu.csv', header=TRUE))\n",
    "N = 763\n",
    "S0 = N - df$days[1]\n",
    "I0 = df$days[1]\n",
    "R0 = 0"
   ]
  },
  {
   "cell_type": "markdown",
   "id": "eb9b4045",
   "metadata": {},
   "source": [
    "And the graphing our cases over time:"
   ]
  },
  {
   "cell_type": "code",
   "execution_count": null,
   "id": "42e333ac",
   "metadata": {},
   "outputs": [],
   "source": [
    "plot(df$days, df$cases, xlab='Days', ylab='Cases', col='green')\n",
    "lines(df$days, df$cases,col='green')"
   ]
  },
  {
   "cell_type": "markdown",
   "id": "23aa8201",
   "metadata": {},
   "source": [
    "## Parameter Estimation: MLE's using Normal Distribution \n",
    "We now want to create a maximum likelihood estimator of our model, with the aim of numerically maximising this to find estimates for our model's parameters.\n",
    "We first assume each observation is normally distributed, with constant variance $\\sigma^2$:\n",
    "\n",
    "$Y_t \\sim N(I_t, \\sigma^2)$.\n",
    "We want a function that will give a log likelihood of our dataset. To do this generally, assume that each datapoint has the same distribution with parameters $\\underline{\\theta}$, so each datapoint has the PDF: $f(y |  \\underline{\\theta})$.\n",
    "Then our likelihood function is: \n",
    "$L =\\displaystyle \\prod_{t=0}^{n-1}f(Y_t | \\underline{\\theta}_t)$,\n",
    "and our log likelihood function is:\n",
    "$L =\\displaystyle \\sum_{t=0}^{n-1}\\log{(f(Y_t | \\underline{\\theta}_t))}$ \n",
    "\n",
    "At first this is a normal distribution so the likelihood function can be implemented. We return the minus log likelihood as this is what our package uses to estimate parameters.\n",
    "\n",
    "\n"
   ]
  },
  {
   "cell_type": "code",
   "execution_count": null,
   "id": "ad3d5ec3",
   "metadata": {},
   "outputs": [],
   "source": [
    "likelihood <- function(gamma, beta,sigma){\n",
    "    beta <- exp(beta)\n",
    "    gamma <- exp(gamma)\n",
    "    sigma <- exp(sigma)\n",
    "    model_data <- model(beta = beta, gamma = gamma, times=df$days, initial_data=c(S=S0, I=I0, R=R0))\n",
    "    model_data<-model_data[-1]\n",
    "    -sum(dnorm(x=df$cases[-1],mean=model_data, sd=sigma, log=TRUE))\n",
    "}"
   ]
  },
  {
   "cell_type": "markdown",
   "id": "d3e1b6d2",
   "metadata": {},
   "source": [
    "Our aim is then to maximimise our log-likelihood function, which we can do using the `bblme` package."
   ]
  },
  {
   "cell_type": "code",
   "execution_count": null,
   "id": "bc0a28e2",
   "metadata": {},
   "outputs": [],
   "source": [
    "initial_params <- c(gamma=0.5, beta=0.005, sigma=1)\n",
    "results <- mle2(minuslogl = likelihood, start = lapply(initial_params, log),method = \"Nelder-Mead\")\n",
    "parameters <- exp(coef(results))\n",
    "parameters"
   ]
  },
  {
   "cell_type": "markdown",
   "id": "ac2101bf",
   "metadata": {},
   "source": [
    "Plotting this estimate against our data:"
   ]
  },
  {
   "cell_type": "code",
   "execution_count": null,
   "id": "1a74437b",
   "metadata": {},
   "outputs": [],
   "source": [
    "best_model <- model(gamma=as.double(parameters['gamma']), beta=as.double(parameters['beta']), times=df$days, initial_data=c(S=S0, I=I0, R=R0))\n",
    "best_df <- data.frame(unlist(best_model), unlist(df$days[-1]))\n",
    "names(best_df)<-c('cases','days')\n",
    "plot(df$days, df$cases, xlab='Days', ylab='Cases', col='green', lwd=2, pch=20)\n",
    "legend(1, 250, legend=c(\"Predicted\", \"Actual\"),\n",
    "       col=c(\"red\", \"green\"), lty=1:1, y.intersp=2)\n",
    "lines(loess(df$cases ~ df$days),col='green', lwd=2)\n",
    "\n",
    "lines(loess(best_df$cases~best_df$days), col='red', lwd=2)\n",
    "points(best_df$days, best_df$cases, col='red', pch=20)\n",
    "title('Boarding School Flu with Normal MLE')"
   ]
  },
  {
   "cell_type": "markdown",
   "id": "df267b9d",
   "metadata": {},
   "source": [
    "Not a great fit, we can try a poisson distribution instead: $Y_t \\sim Po(I_t)$. Our likelihood function is then:"
   ]
  },
  {
   "cell_type": "code",
   "execution_count": null,
   "id": "22ae4c74",
   "metadata": {},
   "outputs": [],
   "source": [
    "likelihood_po <- function(gamma, beta){\n",
    "    beta <- exp(beta)\n",
    "    gamma <- exp(gamma)\n",
    "    model_data <- model(beta = beta, gamma = gamma, times=df$days, initial_data=c(S=S0, I=I0, R=R0))\n",
    "    model_data<-model_data[-1]\n",
    "    -sum(dpois(x = df$cases, lambda = model_data, log = TRUE))\n",
    "}"
   ]
  },
  {
   "cell_type": "markdown",
   "id": "bbe8f77c",
   "metadata": {},
   "source": [
    "We can then repeat our estimation using the library: "
   ]
  },
  {
   "cell_type": "code",
   "execution_count": null,
   "id": "8f6e4639",
   "metadata": {},
   "outputs": [],
   "source": [
    "po_initial_params <- c(gamma=0.5, beta=0.005)\n",
    "po_results <- mle2(minuslogl = likelihood_po, start = lapply(po_initial_params, log),method = \"Nelder-Mead\")\n",
    "po_parameters <- exp(coef(po_results))\n",
    "po_parameters"
   ]
  },
  {
   "cell_type": "code",
   "execution_count": null,
   "id": "0520f401",
   "metadata": {},
   "outputs": [],
   "source": [
    "po_model <- model(gamma=as.double(po_parameters['gamma']), beta=as.double(po_parameters['beta']), times=df$days, initial_data=c(S=S0, I=I0, R=R0))\n",
    "po_df <- data.frame(unlist(po_model), unlist(head(df$days,-1)))\n",
    "names(po_df)<-c('cases','days')\n",
    "plot(df$days, df$cases, xlab='Days', ylab='Cases', col='green', lwd=2, pch=20)\n",
    "legend(1, 250, legend=c(\"Predicted\", \"Actual\"),\n",
    "       col=c(\"red\", \"green\"), lty=1:1, y.intersp=2)\n",
    "lines(loess(df$cases ~ df$days),col='green', lwd=2)\n",
    "\n",
    "lines(loess(po_df$cases~po_df$days), col='red', lwd=2)\n",
    "points(po_df$days, po_df$cases, col='red', pch=20)\n",
    "title('Boarding School Flu with Poisson MLE')"
   ]
  }
 ],
 "metadata": {
  "kernelspec": {
   "display_name": "R",
   "language": "R",
   "name": "ir"
  },
  "language_info": {
   "codemirror_mode": "r",
   "file_extension": ".r",
   "mimetype": "text/x-r-source",
   "name": "R",
   "pygments_lexer": "r",
   "version": "3.6.1"
  }
 },
 "nbformat": 4,
 "nbformat_minor": 5
}
