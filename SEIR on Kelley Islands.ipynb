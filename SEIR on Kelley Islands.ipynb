{
 "cells": [
  {
   "cell_type": "code",
   "execution_count": 2,
   "id": "29b3af51",
   "metadata": {},
   "outputs": [],
   "source": [
    "library(bbmle)\n",
    "library(tidyverse)\n",
    "library(deSolve)\n",
    "dev.new(width=8, height=3.5)"
   ]
  },
  {
   "cell_type": "markdown",
   "id": "91a7e8bd",
   "metadata": {},
   "source": [
    "## Objectives\n",
    "1. Decide on model for data, justify why this model has been chosen. Looking like SEIR at the moment.\n",
    "2. Generate an incidence curve from the model.\n",
    "3. Start using same fitting techniques as on Flu prevalence but fit on our incidence curve since the dataset is incidence."
   ]
  },
  {
   "cell_type": "markdown",
   "id": "4bb04b76",
   "metadata": {},
   "source": [
    "## Dataset\n",
    "Using the dataset obtained from Kelley Islands Influenza outbreak in 1920. "
   ]
  },
  {
   "cell_type": "code",
   "execution_count": 3,
   "id": "fec2c458",
   "metadata": {},
   "outputs": [
    {
     "data": {
      "text/html": [
       "<dl class=dl-horizontal>\n",
       "\t<dt>S</dt>\n",
       "\t\t<dd>688</dd>\n",
       "\t<dt>E</dt>\n",
       "\t\t<dd>0</dd>\n",
       "\t<dt>I</dt>\n",
       "\t\t<dd>1</dd>\n",
       "\t<dt>R</dt>\n",
       "\t\t<dd>0</dd>\n",
       "</dl>\n"
      ],
      "text/latex": [
       "\\begin{description*}\n",
       "\\item[S] 688\n",
       "\\item[E] 0\n",
       "\\item[I] 1\n",
       "\\item[R] 0\n",
       "\\end{description*}\n"
      ],
      "text/markdown": [
       "S\n",
       ":   688E\n",
       ":   0I\n",
       ":   1R\n",
       ":   0\n",
       "\n"
      ],
      "text/plain": [
       "  S   E   I   R \n",
       "688   0   1   0 "
      ]
     },
     "metadata": {},
     "output_type": "display_data"
    },
    {
     "data": {
      "image/png": "[encoded data removed]",
      "text/plain": [
       "Plot with title \"Kelley Islands Flu Outbreak 1920\""
      ]
     },
     "metadata": {},
     "output_type": "display_data"
    }
   ],
   "source": [
    "df <- select(data.frame(read.csv('kelley_islands.csv')), c('days', 'cases'))\n",
    "plot(df$days, df$cases, xlab='Days', ylab='Infected', col='red', pch=4, lwd=1.6)\n",
    "title('Kelley Islands Flu Outbreak 1920')\n",
    "N <- 689\n",
    "initial_data <- c(S=N-1, E=0, I=1, R=0)\n",
    "initial_data"
   ]
  },
  {
   "cell_type": "markdown",
   "id": "92f40e40",
   "metadata": {},
   "source": [
    "## Model: SEIR\n",
    "First choice of model is an SEIR model, where susceptibles become exposed to the disease for a period of time before becoming infectious. So our model is: \n",
    "\n",
    "$\\frac{dS}{dt} = -\\frac{\\beta{S}{I}}{N}$\n",
    "\n",
    "$\\frac{dE}{dt} = \\frac{\\beta{S}{I}}{N} - \\alpha{E}$\n",
    "\n",
    "$\\frac{dI}{dt} = \\alpha {E} - \\gamma{I}$\n",
    "\n",
    "$\\frac{dZ}{dt} = \\gamma{I}$\n",
    "\n",
    "We have 3 parameters in this model; $\\gamma, \\beta, \\alpha$. Some consideration as to what our data represents in our model is also needed. \n",
    "Our data is incidence of _infectious_ members, whereas our model gives the prevalence of the infectious members ($I(t)$).\n",
    "We can make the incidence curve though, for time $d$ where the report interval is $1$ (as it is in our dataset). Given instantaneous incidence $C(t) = \\frac{\\beta S(t) I(t)}{N} $:\n",
    "\n",
    "$C_d = \\int^{d+1}_{d} C(t) dt = \\int^{d+1}_{d} \\beta S(t)I(t) dt$\n",
    "\n",
    "Now say our model is calculated at $n$ points between $d+1$ and $d$, so $t_i = d+ih$ for $h=\\frac{1}{n}$. Then we can apply the composite trapezium rule: \n",
    "$C_d = h[\\frac{1}{2}(C(d)+C(d+1)) + \\sum_{j=1}^{n-1}{C(x_j)}]$"
   ]
  },
  {
   "cell_type": "code",
   "execution_count": 4,
   "id": "d9da9ee1",
   "metadata": {},
   "outputs": [],
   "source": [
    "model <- function(parameters, initial_conditions, time){\n",
    "    equations <- function(time, variables, parameters) {\n",
    "        with(as.list(c(variables, parameters)), {\n",
    "            N <- S+E+I+R\n",
    "            dS <- -beta * I * S/N\n",
    "            dE <- beta * S*I/N - alpha * E\n",
    "            dI <- alpha*E - gamma*I\n",
    "            dR <-  gamma * I\n",
    "            return(list(c(dS, dE, dI, dR)))\n",
    "        })\n",
    "    }\n",
    "    out <- ode(\n",
    "        y = initial_conditions,\n",
    "        times = c(0,time),\n",
    "        func = equations,\n",
    "        parms = parameters\n",
    "    )\n",
    "    return(as.data.frame(out)[-1,])\n",
    "}\n",
    "incidence <- function(params, from, to, n=100){\n",
    "    time_points <- seq(from, to, 1/n)\n",
    "    model_data <- model(params, initial_conditions=initial_data, time=time_points)\n",
    "    model_data$C <- params['beta']*model_data$S*model_data$I/N\n",
    "    ends <- tail(model_data$C, n=1) + model_data$C[1] \n",
    "    total <- sum(model_data$C) - 0.5*ends\n",
    "    return(1/n*total)\n",
    "}\n",
    "incidence_curve <- function(params, times){\n",
    "    inc_data <- data.frame(time=times[1], incidence=incidence(params, times[1], times[2]))\n",
    "    for(i in 3:length(times)){\n",
    "        instant <- incidence(params, times[i-1], times[i])\n",
    "        inc_data[nrow(inc_data) + 1,] = c(times[i-1], instant)\n",
    "    }\n",
    "    return(inc_data)\n",
    "}"
   ]
  },
  {
   "cell_type": "markdown",
   "id": "d5cb437b",
   "metadata": {},
   "source": [
    "We now have an incidence curve, so we can fit our data."
   ]
  },
  {
   "cell_type": "code",
   "execution_count": 5,
   "id": "aa2fb34f",
   "metadata": {},
   "outputs": [
    {
     "data": {
      "image/png": "[encoded data removed]",
      "text/plain": [
       "Plot with title \"Sample incidence curve\""
      ]
     },
     "metadata": {},
     "output_type": "display_data"
    }
   ],
   "source": [
    "time_length <- 30\n",
    "incidence_times <- seq(0, time_length, 0.1)\n",
    "inc_data <- incidence_curve(c(beta=1.66, gamma=0.45, alpha=1.5), times=incidence_times)\n",
    "plot(loess(inc_data$incidence~inc_data$time),type='l', xlab='Days', ylab='Incidence', col='red', pch=4, lwd=1.6)\n",
    "title('Sample incidence curve')"
   ]
  },
  {
   "cell_type": "code",
   "execution_count": null,
   "id": "c513b955",
   "metadata": {},
   "outputs": [],
   "source": [
    "ss <- function(params){\n",
    "    predictions <- incidence_curve(params, times = df$days)\n",
    "    sum((predictions$incidence[-1] - df$cases[-1])^2)\n",
    "}\n",
    "starting_param_val <- c(beta=1.66, gamma=0.4545, alpha=1)\n",
    "ss(starting_param_val)"
   ]
  }
 ],
 "metadata": {
  "kernelspec": {
   "display_name": "R",
   "language": "R",
   "name": "ir"
  },
  "language_info": {
   "codemirror_mode": "r",
   "file_extension": ".r",
   "mimetype": "text/x-r-source",
   "name": "R",
   "pygments_lexer": "r",
   "version": "3.6.1"
  }
 },
 "nbformat": 4,
 "nbformat_minor": 5
}
