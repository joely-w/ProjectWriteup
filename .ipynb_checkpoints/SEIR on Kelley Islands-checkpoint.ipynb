{
 "cells": [
  {
   "cell_type": "code",
   "execution_count": 87,
   "id": "a651f8ef",
   "metadata": {},
   "outputs": [],
   "source": [
    "library(bbmle)\n",
    "library(plyr)\n",
    "library(tidyverse)\n",
    "library(tidyr)\n",
    "library(deSolve)\n",
    "options(repr.plot.width = 8, repr.plot.height =5.5)\n",
    "dev.new(width=8, height=4.5)"
   ]
  },
  {
   "cell_type": "markdown",
   "id": "8548e17c",
   "metadata": {},
   "source": [
    "## SIR model\n",
    "We first decide what model to use. Using S,I,R to represent proportions we use: \n",
    "\n",
    "$\\frac{dX}{dt} = -\\frac{\\beta{X}{Y}}{N}$\n",
    "\n",
    "$\\frac{dY}{dt} = \\frac{\\beta{X}{Y}}{N} - \\gamma{Y}$\n",
    "\n",
    "$\\frac{dZ}{dt} = \\gamma{Y}$"
   ]
  },
  {
   "cell_type": "code",
   "execution_count": 88,
   "id": "b2c30daf",
   "metadata": {
    "scrolled": false
   },
   "outputs": [],
   "source": [
    "model <- function(beta, gamma, initial_conditions, times){\n",
    "    equations <- function(time, variables, parameters) {\n",
    "        with(as.list(c(variables, parameters)), {\n",
    "            N <- X+Y+Z\n",
    "            dX <- -beta * X * Y/N\n",
    "            dY <- beta * X*Y/N - gamma * Y\n",
    "            dZ <-  gamma * Y\n",
    "            return(list(c(dX, dY, dZ)))\n",
    "        })\n",
    "    }\n",
    "    out <- ode(\n",
    "        y = initial_conditions,\n",
    "        times = times,\n",
    "        func = equations,\n",
    "        parms = c(beta=beta, gamma=gamma) \n",
    "    )\n",
    "    as.data.frame(out)\n",
    "}"
   ]
  },
  {
   "cell_type": "code",
   "execution_count": 89,
   "id": "e8a1a919",
   "metadata": {},
   "outputs": [
    {
     "data": {
      "image/png": "[encoded data removed]",
      "text/plain": [
       "plot without title"
      ]
     },
     "metadata": {},
     "output_type": "display_data"
    }
   ],
   "source": [
    "df <- data.frame(read.csv('BoardingSchoolFlu.csv', header=TRUE))\n",
    "N = 763\n",
    "initial_conditions <- c(X=(N-df$cases[1]), Y=df$cases[1], Z=0)\n",
    "plot(df$days, df$cases, xlab='Days', ylab='Infected', col='red', pch=4, lwd=1.6)"
   ]
  },
  {
   "cell_type": "code",
   "execution_count": 90,
   "id": "fee0bb5b",
   "metadata": {},
   "outputs": [],
   "source": [
    "compare_model <- function(predicted, title, times){\n",
    "    plot(df$days, df$cases, xlab='Days', ylab='Cases', col='red', lwd=1.6, pch=4)\n",
    "    legend(1, 250, legend=c(\"Predicted\", \"Actual\"),\n",
    "           col=c(\"red\", \"grey\"), lty=1:5, y.intersp=2)\n",
    "    \n",
    "    lines(loess(predicted~times), col='black', lty=5)\n",
    "    title(title)\n",
    "}"
   ]
  },
  {
   "cell_type": "markdown",
   "id": "91714f3f",
   "metadata": {},
   "source": [
    "## Using Least Squares\n",
    "We can use Least Squares to estimate our parameters, and then in further approaches use these parameters as our initial conditions."
   ]
  },
  {
   "cell_type": "code",
   "execution_count": 91,
   "id": "a23511ec",
   "metadata": {},
   "outputs": [],
   "source": [
    "ss <- function(params) {\n",
    "  I0 <- df$cases[1]\n",
    "  times <- df$days\n",
    "  predictions <- model(beta = params[1], gamma = params[2], initial_conditions,times = df$days)\n",
    "  sum((predictions$Y[-1] - df$cases[-1])^2)\n",
    "}"
   ]
  },
  {
   "cell_type": "code",
   "execution_count": 92,
   "id": "5a6e493d",
   "metadata": {},
   "outputs": [
    {
     "data": {
      "text/html": [
       "3923.88054216773"
      ],
      "text/latex": [
       "3923.88054216773"
      ],
      "text/markdown": [
       "3923.88054216773"
      ],
      "text/plain": [
       "[1] 3923.881"
      ]
     },
     "metadata": {},
     "output_type": "display_data"
    }
   ],
   "source": [
    "starting_param_val <- c(1, 1)\n",
    "ss_optim <- optim(starting_param_val, ss)\n",
    "parameters_ss <- c(beta=ss_optim$par[1], gamma=ss_optim$par[2])\n",
    "ss_optim$value"
   ]
  },
  {
   "cell_type": "code",
   "execution_count": 93,
   "id": "1c2248fd",
   "metadata": {},
   "outputs": [
    {
     "data": {
      "text/html": [
       "<dl class=dl-horizontal>\n",
       "\t<dt>beta</dt>\n",
       "\t\t<dd>1.69265578778683</dd>\n",
       "\t<dt>gamma</dt>\n",
       "\t\t<dd>0.45065580160001</dd>\n",
       "</dl>\n"
      ],
      "text/latex": [
       "\\begin{description*}\n",
       "\\item[beta] 1.69265578778683\n",
       "\\item[gamma] 0.45065580160001\n",
       "\\end{description*}\n"
      ],
      "text/markdown": [
       "beta\n",
       ":   1.69265578778683gamma\n",
       ":   0.45065580160001\n",
       "\n"
      ],
      "text/plain": [
       "     beta     gamma \n",
       "1.6926558 0.4506558 "
      ]
     },
     "metadata": {},
     "output_type": "display_data"
    },
    {
     "data": {
      "image/png": "[encoded data removed]",
      "text/plain": [
       "Plot with title \"SIR Model using Least Squares\""
      ]
     },
     "metadata": {},
     "output_type": "display_data"
    }
   ],
   "source": [
    "times <- seq(1,20,0.1)\n",
    "ss_model <-c(model(gamma=as.double(parameters_ss['gamma']),\n",
    "                       beta=as.double(parameters_ss['beta']),\n",
    "                       times = times,\n",
    "                       initial_conditions=initial_conditions)$Y)\n",
    "parameters_ss\n",
    "compare_model(ss_model, \"SIR Model using Least Squares\", times)"
   ]
  },
  {
   "cell_type": "markdown",
   "id": "c4b123f8",
   "metadata": {},
   "source": [
    "## Using Normal MLE \n",
    "Now we have our initial parameter guesses in `parameters_ss`. We have our likelihood function, what happens if we just vary our standard deviation?"
   ]
  },
  {
   "cell_type": "code",
   "execution_count": 94,
   "id": "3aade78e",
   "metadata": {},
   "outputs": [],
   "source": [
    "normalLL <- function(beta, gamma, sigma){\n",
    "    model_data <- model(beta = beta, gamma = gamma, times=df$days, initial_conditions=initial_conditions)$Y[-1]\n",
    "    -sum(dnorm(x=df$cases[-1],mean=model_data, sd=sigma, log=TRUE))\n",
    "}"
   ]
  },
  {
   "cell_type": "code",
   "execution_count": 95,
   "id": "53f8d398",
   "metadata": {},
   "outputs": [
    {
     "data": {
      "image/png": "[encoded data removed]",
      "text/plain": [
       "plot without title"
      ]
     },
     "metadata": {},
     "output_type": "display_data"
    }
   ],
   "source": [
    "sigmas <- seq(1,100, 0.5)\n",
    "res <- numeric()\n",
    "\n",
    "for (sigma in sigmas){\n",
    "    res <- c(res, normalLL(ss_optim$par[1], ss_optim$par[2], sigma))\n",
    "}\n",
    "plot((res~sigmas), cex=0.3,pch=20 )\n",
    "lines(loess(res~sigmas))"
   ]
  },
  {
   "cell_type": "code",
   "execution_count": 96,
   "id": "12ca8973",
   "metadata": {},
   "outputs": [
    {
     "data": {
      "text/html": [
       "72.0096073766143"
      ],
      "text/latex": [
       "72.0096073766143"
      ],
      "text/markdown": [
       "72.0096073766143"
      ],
      "text/plain": [
       "[1] 72.00961"
      ]
     },
     "metadata": {},
     "output_type": "display_data"
    }
   ],
   "source": [
    "normalLL(ss_optim$par[1], ss_optim$par[2], sigma)"
   ]
  },
  {
   "cell_type": "code",
   "execution_count": 98,
   "id": "a0f54294",
   "metadata": {
    "scrolled": false
   },
   "outputs": [
    {
     "data": {
      "text/html": [
       "<dl class=dl-horizontal>\n",
       "\t<dt>beta</dt>\n",
       "\t\t<dd>1.69265187125922</dd>\n",
       "\t<dt>gamma</dt>\n",
       "\t\t<dd>0.450681679039992</dd>\n",
       "\t<dt>sigma</dt>\n",
       "\t\t<dd>10</dd>\n",
       "</dl>\n"
      ],
      "text/latex": [
       "\\begin{description*}\n",
       "\\item[beta] 1.69265187125922\n",
       "\\item[gamma] 0.450681679039992\n",
       "\\item[sigma] 10\n",
       "\\end{description*}\n"
      ],
      "text/markdown": [
       "beta\n",
       ":   1.69265187125922gamma\n",
       ":   0.450681679039992sigma\n",
       ":   10\n",
       "\n"
      ],
      "text/plain": [
       "      beta      gamma      sigma \n",
       " 1.6926519  0.4506817 10.0000000 "
      ]
     },
     "metadata": {},
     "output_type": "display_data"
    },
    {
     "data": {
      "image/png": "[encoded data removed]",
      "text/plain": [
       "Plot with title \"SIR Model using Normal MLE\""
      ]
     },
     "metadata": {},
     "output_type": "display_data"
    }
   ],
   "source": [
    "starting_param_val <- c(ss_optim$par, 10)\n",
    "nMLL <- function(params) normalLL(params[1], params[2], params[3])\n",
    "\n",
    "normal_optim <- optim(starting_param_val, nMLL, lower=c(0,0,1),\n",
    "                 upper=c(10,10,10),\n",
    "                 method=\"L-BFGS-B\",)\n",
    "normal_params<-c(beta=(normal_optim$par[1]), gamma=(normal_optim$par[2]), sigma=(normal_optim$par[3]))\n",
    "normal_params\n",
    "\n",
    "normal_model <-c(as.double(model(gamma=as.double(normal_params['gamma']),\n",
    "                       beta=as.double(normal_params['beta']),\n",
    "                       times = times,\n",
    "                       initial_conditions=initial_conditions)$Y))\n",
    "compare_model(normal_model, \"SIR Model using Normal MLE\", times)\n"
   ]
  },
  {
   "cell_type": "code",
   "execution_count": 99,
   "id": "95f42fe8",
   "metadata": {},
   "outputs": [
    {
     "data": {
      "text/html": [
       "<dl class=dl-horizontal>\n",
       "\t<dt>beta</dt>\n",
       "\t\t<dd>1.71698052919965</dd>\n",
       "\t<dt>gamma</dt>\n",
       "\t\t<dd>0.479568170851116</dd>\n",
       "</dl>\n"
      ],
      "text/latex": [
       "\\begin{description*}\n",
       "\\item[beta] 1.71698052919965\n",
       "\\item[gamma] 0.479568170851116\n",
       "\\end{description*}\n"
      ],
      "text/markdown": [
       "beta\n",
       ":   1.71698052919965gamma\n",
       ":   0.479568170851116\n",
       "\n"
      ],
      "text/plain": [
       "     beta     gamma \n",
       "1.7169805 0.4795682 "
      ]
     },
     "metadata": {},
     "output_type": "display_data"
    },
    {
     "data": {
      "image/png": "[encoded data removed]",
      "text/plain": [
       "Plot with title \"SIR Model using Poisson MLE\""
      ]
     },
     "metadata": {},
     "output_type": "display_data"
    }
   ],
   "source": [
    "poissonLL <- function(beta, gamma){\n",
    "    model_data <- model(beta = beta, gamma = gamma, times=df$days, initial_conditions=initial_conditions)$Y[-1]\n",
    "    -sum(dpois(x = df$cases[-1], lambda = model_data, log = TRUE))\n",
    "}\n",
    "\n",
    "pLL <- function(params) poissonLL(params[1], params[2])\n",
    "\n",
    "poisson_optim <- optim(ss_optim$par, pLL, lower=c(0,0),\n",
    "                 upper=c(10,1),\n",
    "                 method=\"L-BFGS-B\",)\n",
    "poisson_params<-c(beta=(poisson_optim$par[1]), gamma=(poisson_optim$par[2]))\n",
    "poisson_params\n",
    "\n",
    "poisson_model <-c(as.double(model(gamma=as.double(poisson_params['gamma']),\n",
    "                       beta=as.double(poisson_params['beta']),\n",
    "                       times = times,\n",
    "                       initial_conditions=initial_conditions)$Y))\n",
    "compare_model(poisson_model, \"SIR Model using Poisson MLE\", times)\n"
   ]
  }
 ],
 "metadata": {
  "kernelspec": {
   "display_name": "R",
   "language": "R",
   "name": "ir"
  },
  "language_info": {
   "codemirror_mode": "r",
   "file_extension": ".r",
   "mimetype": "text/x-r-source",
   "name": "R",
   "pygments_lexer": "r",
   "version": "3.6.1"
  }
 },
 "nbformat": 4,
 "nbformat_minor": 5
}
