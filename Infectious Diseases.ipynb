{
 "cells": [
  {
   "cell_type": "code",
   "execution_count": 10,
   "id": "a651f8ef",
   "metadata": {},
   "outputs": [],
   "source": [
    "library(bbmle)\n",
    "library(tidyverse)\n",
    "library(tidyr)\n",
    "library(deSolve)\n",
    "library(plyr)\n",
    "options(repr.plot.width = 8, repr.plot.height =5.5)\n",
    "dev.new(width=8, height=4.5)\n",
    "set.seed(1234)"
   ]
  },
  {
   "cell_type": "markdown",
   "id": "8548e17c",
   "metadata": {},
   "source": [
    "## SIR model\n",
    "We first decide what model to use. Using S,I,R to represent proportions we use: \n",
    "\n",
    "$\\frac{dX}{dt} = -\\frac{\\beta{X}{Y}}{N}$\n",
    "\n",
    "$\\frac{dY}{dt} = \\frac{\\beta{X}{Y}}{N} - \\gamma{Y}$\n",
    "\n",
    "$\\frac{dZ}{dt} = \\gamma{Y}$"
   ]
  },
  {
   "cell_type": "code",
   "execution_count": 51,
   "id": "b2c30daf",
   "metadata": {
    "scrolled": false
   },
   "outputs": [],
   "source": [
    "model <- function(beta, gamma, initial_conditions, times){\n",
    "    equations <- function(time, variables, parameters) {\n",
    "        with(as.list(c(variables, parameters)), {\n",
    "            N <- X+Y+Z\n",
    "            dX <- -beta * X * Y/N\n",
    "            dY <- beta * X*Y/N - gamma * Y\n",
    "            dZ <-  gamma * Y\n",
    "            return(list(c(dX, dY, dZ)))\n",
    "        })\n",
    "    }\n",
    "    out <- ode(\n",
    "        y = initial_conditions,\n",
    "        times = times,\n",
    "        func = equations,\n",
    "        parms = c(beta=beta, gamma=gamma) \n",
    "    )\n",
    "    as.data.frame(out)\n",
    "}"
   ]
  },
  {
   "cell_type": "code",
   "execution_count": 52,
   "id": "e8a1a919",
   "metadata": {},
   "outputs": [
    {
     "data": {
      "image/png": "[encoded data removed]",
      "text/plain": [
       "plot without title"
      ]
     },
     "metadata": {},
     "output_type": "display_data"
    }
   ],
   "source": [
    "df <- data.frame(read.csv('BoardingSchoolFlu.csv', header=TRUE))\n",
    "N = 763\n",
    "initial_conditions <- c(X=(N-df$cases[1]), Y=df$cases[1], Z=0)\n",
    "plot(df$days, df$cases, xlab='Days', ylab='Infected', col='red', pch=4, lwd=1.6)"
   ]
  },
  {
   "cell_type": "code",
   "execution_count": 95,
   "id": "fee0bb5b",
   "metadata": {},
   "outputs": [],
   "source": [
    "compare_model <- function(predicted, title, times){\n",
    "    plot(df$days, df$cases, xlab='Days', ylab='Cases', col='red', lwd=1.6, pch=4)\n",
    "    legend(1, 250, legend=c(\"Predicted\", \"Actual\"),\n",
    "           col=c(\"red\", \"grey\"), lty=1:5, y.intersp=2)\n",
    "    \n",
    "    lines(loess(predicted~times), col='black', lty=5)\n",
    "    title(title)\n",
    "}"
   ]
  },
  {
   "cell_type": "markdown",
   "id": "91714f3f",
   "metadata": {},
   "source": [
    "## Using Least Squares\n",
    "We can use Least Squares to estimate our parameters, and then in further approaches use these parameters as our initial conditions."
   ]
  },
  {
   "cell_type": "code",
   "execution_count": 125,
   "id": "a23511ec",
   "metadata": {},
   "outputs": [],
   "source": [
    "ss <- function(params) {\n",
    "  I0 <- df$cases[1]\n",
    "  times <- df$days\n",
    "  predictions <- model(beta = params[1], gamma = params[2], initial_conditions,times = df$days)\n",
    "  sum((predictions$Y[-1] - df$cases[-1])^2)\n",
    "}"
   ]
  },
  {
   "cell_type": "code",
   "execution_count": 130,
   "id": "5a6e493d",
   "metadata": {},
   "outputs": [
    {
     "data": {
      "text/html": [
       "3923.88054216773"
      ],
      "text/latex": [
       "3923.88054216773"
      ],
      "text/markdown": [
       "3923.88054216773"
      ],
      "text/plain": [
       "[1] 3923.881"
      ]
     },
     "metadata": {},
     "output_type": "display_data"
    }
   ],
   "source": [
    "starting_param_val <- c(1, 1)\n",
    "ss_optim <- optim(starting_param_val, ss)\n",
    "parameters_ss <- c(beta=ss_optim$par[1], gamma=ss_optim$par[2])\n",
    "ss_optim$value"
   ]
  },
  {
   "cell_type": "code",
   "execution_count": 131,
   "id": "1c2248fd",
   "metadata": {},
   "outputs": [
    {
     "data": {
      "image/png": "[encoded data removed]",
      "text/plain": [
       "Plot with title \"SIR Model using Least Squares\""
      ]
     },
     "metadata": {},
     "output_type": "display_data"
    }
   ],
   "source": [
    "times <- seq(0,20,0.1)\n",
    "normal_model <-c(as.double(initial_conditions['Y']), model(gamma=as.double(parameters_ss['gamma']),\n",
    "                       beta=as.double(parameters_ss['beta']),\n",
    "                       times = seq(0.1,20,0.1),\n",
    "                       initial_conditions=initial_conditions)$Y)\n",
    "compare_model(normal_model, \"SIR Model using Least Squares\", times)"
   ]
  },
  {
   "cell_type": "markdown",
   "id": "c4b123f8",
   "metadata": {},
   "source": [
    "## Using Normal MLE \n",
    "Now we have our initial parameter guesses in `parameters_ss`. We have our likelihood function, what happens if we just vary our standard deviation?"
   ]
  },
  {
   "cell_type": "code",
   "execution_count": 132,
   "id": "3aade78e",
   "metadata": {},
   "outputs": [
    {
     "ename": "ERROR",
     "evalue": "Error in normalLL(as.double(parameters_ss[\"gamma\"]), as.double(parameters_ss[\"beta\"], : argument \"sigma\" is missing, with no default\n",
     "output_type": "error",
     "traceback": [
      "Error in normalLL(as.double(parameters_ss[\"gamma\"]), as.double(parameters_ss[\"beta\"], : argument \"sigma\" is missing, with no default\nTraceback:\n",
      "1. lapply(standard_dev, function(sigma) {\n .     append(res, normalLL(as.double(parameters_ss[\"gamma\"]), as.double(parameters_ss[\"beta\"], \n .         sigma)))\n . })",
      "2. FUN(X[[i]], ...)",
      "3. append(res, normalLL(as.double(parameters_ss[\"gamma\"]), as.double(parameters_ss[\"beta\"], \n .     sigma)))   # at line 10 of file <text>",
      "4. normalLL(as.double(parameters_ss[\"gamma\"]), as.double(parameters_ss[\"beta\"], \n .     sigma))"
     ]
    }
   ],
   "source": [
    "normalLL <- function(gamma, beta,sigma){\n",
    "    gamma <- exp(gamma)\n",
    "    beta <- exp(beta)\n",
    "    sigma <- exp(sigma)\n",
    "    model_data <- model(beta = beta, gamma = gamma, times=df$days, initial_conditions=initial_conditions)$X[-1]\n",
    "    -sum(dnorm(x=df$cases[-1],mean=model_data, sd=sigma, log=TRUE))\n",
    "}\n",
    "res <- c()\n",
    "standard_dev <- seq(1, 20, 0.05)\n",
    "lapply(standard_dev, function(sigma){\n",
    "    append(res, normalLL(as.double(parameters_ss['gamma']), as.double(parameters_ss['beta'], sigma)))\n",
    "})\n",
    "res"
   ]
  },
  {
   "cell_type": "code",
   "execution_count": 117,
   "id": "a0f54294",
   "metadata": {},
   "outputs": [
    {
     "data": {
      "image/png": "[encoded data removed]",
      "text/plain": [
       "Plot with title \"SIR Model with Normal MLE\""
      ]
     },
     "metadata": {},
     "output_type": "display_data"
    }
   ],
   "source": [
    "times <- seq(0,20,0.1)\n",
    "normal_model <-c(as.double(initial_conditions['Y']), model(gamma=as.double(parameters['gamma']),\n",
    "                       beta=as.double(parameters['beta']),\n",
    "                       times = seq(0.1,20,0.1),\n",
    "                       initial_conditions=initial_conditions)$Y)\n",
    "compare_model(normal_model, \"SIR Model with Normal MLE\", times)"
   ]
  },
  {
   "cell_type": "code",
   "execution_count": 61,
   "id": "95f42fe8",
   "metadata": {},
   "outputs": [
    {
     "data": {
      "text/html": [
       "<dl class=dl-horizontal>\n",
       "\t<dt>gamma</dt>\n",
       "\t\t<dd>1.84871966664068e-19</dd>\n",
       "\t<dt>beta</dt>\n",
       "\t\t<dd>1762.86221901163</dd>\n",
       "</dl>\n"
      ],
      "text/latex": [
       "\\begin{description*}\n",
       "\\item[gamma] 1.84871966664068e-19\n",
       "\\item[beta] 1762.86221901163\n",
       "\\end{description*}\n"
      ],
      "text/markdown": [
       "gamma\n",
       ":   1.84871966664068e-19beta\n",
       ":   1762.86221901163\n",
       "\n"
      ],
      "text/plain": [
       "       gamma         beta \n",
       "1.848720e-19 1.762862e+03 "
      ]
     },
     "metadata": {},
     "output_type": "display_data"
    }
   ],
   "source": [
    "poissonLL <- function(gamma, beta){\n",
    "    beta <- exp(beta)\n",
    "    gamma <- exp(gamma)\n",
    "    model_data <- model(beta = beta, gamma = gamma, times=df$days, initial_data=initial_conditions)\n",
    "    -sum(dpois(x = df$cases[-1], lambda = model_data[-1], log = TRUE))\n",
    "}\n",
    "initial_params <- list(beta = 1.66, gamma = 1/2.2)\n",
    "po_results <- mle2(minuslogl = poissonLL, start = lapply(initial_params, log),method = \"Nelder-Mead\")\n",
    "po_parameters <- exp(coef(po_results))\n",
    "po_parameters"
   ]
  }
 ],
 "metadata": {
  "kernelspec": {
   "display_name": "R",
   "language": "R",
   "name": "ir"
  },
  "language_info": {
   "codemirror_mode": "r",
   "file_extension": ".r",
   "mimetype": "text/x-r-source",
   "name": "R",
   "pygments_lexer": "r",
   "version": "3.6.1"
  }
 },
 "nbformat": 4,
 "nbformat_minor": 5
}
